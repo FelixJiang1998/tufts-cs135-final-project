{
  "cells": [
    {
      "cell_type": "markdown",
      "metadata": {
        "id": "WREb-GwCDjON"
      },
      "source": [
        "# HDCNN for Architecture Image Recognition"
      ]
    },
    {
      "cell_type": "markdown",
      "metadata": {
        "id": "sIMFIbzkDjOP"
      },
      "source": [
        "## Setup and Imports"
      ]
    },
    {
      "cell_type": "markdown",
      "metadata": {
        "id": "bK2YfMDWDjOP"
      },
      "source": [
        "**Import Packages**"
      ]
    },
    {
      "cell_type": "code",
      "execution_count": 222,
      "metadata": {
        "id": "o8jkSNBTDjOQ"
      },
      "outputs": [],
      "source": [
        "import keras as kr\n",
        "import numpy as np\n",
        "import tensorflow.compat.v1 as tf\n",
        "\n",
        "tf.disable_v2_behavior()\n",
        "\n",
        "\n",
        "from keras.datasets import cifar100\n",
        "\n",
        "from sklearn.model_selection import train_test_split\n",
        "\n",
        "from random import randint\n",
        "import time\n",
        "import os\n",
        "from sklearn.manifold import TSNE\n",
        "import matplotlib.pyplot as plt\n"
      ]
    },
    {
      "cell_type": "code",
      "execution_count": 223,
      "metadata": {
        "id": "cIywIdtKDjOR"
      },
      "outputs": [],
      "source": [
        "if not os.path.exists('data/models/'):\n",
        "    os.mkdir('data/models')"
      ]
    },
    {
      "cell_type": "markdown",
      "metadata": {
        "id": "OcpoTSj4DjOR"
      },
      "source": [
        "**Define Global Variables**"
      ]
    },
    {
      "cell_type": "code",
      "execution_count": 224,
      "metadata": {
        "id": "m00DWErIDjOS"
      },
      "outputs": [],
      "source": [
        "# The number of coarse categories\n",
        "coarse_categories = 11\n",
        "\n",
        "# The number of fine categories\n",
        "fine_categories = 25"
      ]
    },
    {
      "cell_type": "markdown",
      "metadata": {
        "id": "gr7TENfZDjOT"
      },
      "source": [
        "## Import and Preprocess Dataset"
      ]
    },
    {
      "cell_type": "code",
      "source": [
        "import random\n",
        "import keras_preprocessing.image\n",
        "\n",
        "def load_and_crop_img(path, grayscale=False, color_mode='rgb', target_size=None,\n",
        "             interpolation='nearest'):\n",
        "    \"\"\"Wraps keras_preprocessing.image.utils.loag_img() and adds cropping.\n",
        "    Cropping method enumarated in interpolation\n",
        "    # Arguments\n",
        "        path: Path to image file.\n",
        "        color_mode: One of \"grayscale\", \"rgb\", \"rgba\". Default: \"rgb\".\n",
        "            The desired image format.\n",
        "        target_size: Either `None` (default to original size)\n",
        "            or tuple of ints `(img_height, img_width)`.\n",
        "        interpolation: Interpolation and crop methods used to resample and crop the image\n",
        "            if the target size is different from that of the loaded image.\n",
        "            Methods are delimited by \":\" where first part is interpolation and second is crop\n",
        "            e.g. \"lanczos:random\".\n",
        "            Supported interpolation methods are \"nearest\", \"bilinear\", \"bicubic\", \"lanczos\",\n",
        "            \"box\", \"hamming\" By default, \"nearest\" is used.\n",
        "            Supported crop methods are \"none\", \"center\", \"random\".\n",
        "    # Returns\n",
        "        A PIL Image instance.\n",
        "    # Raises\n",
        "        ImportError: if PIL is not available.\n",
        "        ValueError: if interpolation method is not supported.\n",
        "    \"\"\"\n",
        "\n",
        "    # Decode interpolation string. Allowed Crop methods: none, center, random\n",
        "    interpolation, crop = interpolation.split(\":\") if \":\" in interpolation else (interpolation, \"none\")  \n",
        "\n",
        "    if crop == \"none\":\n",
        "        return keras_preprocessing.image.utils.load_img(path, \n",
        "                                            grayscale=grayscale, \n",
        "                                            color_mode=color_mode, \n",
        "                                            target_size=target_size,\n",
        "                                            interpolation=interpolation)\n",
        "\n",
        "    # Load original size image using Keras\n",
        "    img = keras_preprocessing.image.utils.load_img(path, \n",
        "                                            grayscale=grayscale, \n",
        "                                            color_mode=color_mode, \n",
        "                                            target_size=None, \n",
        "                                            interpolation=interpolation)\n",
        "\n",
        "    # Crop fraction of total image\n",
        "    crop_fraction = 0.875\n",
        "    target_width = target_size[1]\n",
        "    target_height = target_size[0]\n",
        "\n",
        "    if target_size is not None:        \n",
        "        if img.size != (target_width, target_height):\n",
        "\n",
        "            if crop not in [\"center\", \"random\"]:\n",
        "                raise ValueError('Invalid crop method {} specified.', crop)\n",
        "\n",
        "            if interpolation not in keras_preprocessing.image.utils._PIL_INTERPOLATION_METHODS:\n",
        "                raise ValueError(\n",
        "                    'Invalid interpolation method {} specified. Supported '\n",
        "                    'methods are {}'.format(interpolation,\n",
        "                        \", \".join(keras_preprocessing.image.utils._PIL_INTERPOLATION_METHODS.keys())))\n",
        "            \n",
        "            resample = keras_preprocessing.image.utils._PIL_INTERPOLATION_METHODS[interpolation]\n",
        "\n",
        "            width, height = img.size\n",
        "\n",
        "            # Resize keeping aspect ratio\n",
        "            # result shold be no smaller than the targer size, include crop fraction overhead\n",
        "            target_size_before_crop = (target_width/crop_fraction, target_height/crop_fraction)\n",
        "            ratio = max(target_size_before_crop[0] / width, target_size_before_crop[1] / height)\n",
        "            target_size_before_crop_keep_ratio = int(width * ratio), int(height * ratio)\n",
        "            img = img.resize(target_size_before_crop_keep_ratio, resample=resample)\n",
        "\n",
        "            width, height = img.size\n",
        "\n",
        "            if crop == \"center\":\n",
        "                left_corner = int(round(width/2)) - int(round(target_width/2))\n",
        "                top_corner = int(round(height/2)) - int(round(target_height/2))\n",
        "                return img.crop((left_corner, top_corner, left_corner + target_width, top_corner + target_height))\n",
        "            elif crop == \"random\":\n",
        "                left_shift = random.randint(0, int((width - target_width)))\n",
        "                down_shift = random.randint(0, int((height - target_height)))\n",
        "                return img.crop((left_shift, down_shift, target_width + left_shift, target_height + down_shift))\n",
        "\n",
        "    return img\n",
        "  \n",
        "keras_preprocessing.image.iterator.load_img = load_and_crop_img"
      ],
      "metadata": {
        "id": "VorDvH9A5TlK"
      },
      "execution_count": 225,
      "outputs": []
    },
    {
      "cell_type": "code",
      "source": [
        "from keras.preprocessing.image import ImageDataGenerator\n",
        "from keras.applications.inception_v3 import preprocess_input\n",
        "fine_datagen = tf.keras.preprocessing.image.ImageDataGenerator(    \n",
        "    rotation_range=15,\n",
        "    horizontal_flip=True,\n",
        "    samplewise_std_normalization = True)\n",
        "fine_dir = \"/content/drive/MyDrive/CS135_final_data/fine_standard\"\n",
        "fine_img = fine_datagen.flow_from_directory(fine_dir,target_size=(64,64), batch_size=128, interpolation = 'lanczos:center', shuffle=False)"
      ],
      "metadata": {
        "colab": {
          "base_uri": "https://localhost:8080/"
        },
        "id": "zmgxfscyDJy7",
        "outputId": "043cc742-ba77-4a45-a7b0-5859b16affa3"
      },
      "execution_count": 226,
      "outputs": [
        {
          "output_type": "stream",
          "name": "stderr",
          "text": [
            "/usr/local/lib/python3.7/dist-packages/keras_preprocessing/image/image_data_generator.py:356: UserWarning: This ImageDataGenerator specifies `samplewise_std_normalization`, which overrides setting of `samplewise_center`.\n",
            "  warnings.warn('This ImageDataGenerator specifies '\n"
          ]
        },
        {
          "output_type": "stream",
          "name": "stdout",
          "text": [
            "Found 10113 images belonging to 25 classes.\n"
          ]
        }
      ]
    },
    {
      "cell_type": "markdown",
      "source": [
        ""
      ],
      "metadata": {
        "id": "S4bkFOSmZe-3"
      }
    },
    {
      "cell_type": "code",
      "source": [
        "from google.colab import drive\n",
        "drive.mount('/content/drive')"
      ],
      "metadata": {
        "colab": {
          "base_uri": "https://localhost:8080/"
        },
        "id": "eJqRFYqGI0-0",
        "outputId": "c534aa20-62f0-407b-a5c4-badb82b85266"
      },
      "execution_count": 227,
      "outputs": [
        {
          "output_type": "stream",
          "name": "stdout",
          "text": [
            "Drive already mounted at /content/drive; to attempt to forcibly remount, call drive.mount(\"/content/drive\", force_remount=True).\n"
          ]
        }
      ]
    },
    {
      "cell_type": "code",
      "source": [
        "from tqdm import tqdm\n",
        "fine_img.reset()\n",
        "X_fine, y_fine = next(fine_img)\n",
        "for i in tqdm(range(int(len(fine_img))-1)): #1st batch is already fetched before the for loop.\n",
        "  img, label = next(fine_img)\n",
        "  X_fine = np.append(X_fine, img, axis=0)\n",
        "  y_fine = np.append(y_fine, label, axis=0)\n",
        "print(X_fine.shape, y_fine.shape)"
      ],
      "metadata": {
        "colab": {
          "base_uri": "https://localhost:8080/"
        },
        "id": "gD4-pUyc8xKs",
        "outputId": "54c65801-dcde-456f-fdeb-2ba749752c59"
      },
      "execution_count": 228,
      "outputs": [
        {
          "output_type": "stream",
          "name": "stderr",
          "text": [
            "100%|██████████| 79/79 [02:46<00:00,  2.10s/it]"
          ]
        },
        {
          "output_type": "stream",
          "name": "stdout",
          "text": [
            "(10113, 64, 64, 3) (10113, 25)\n"
          ]
        },
        {
          "output_type": "stream",
          "name": "stderr",
          "text": [
            "\n"
          ]
        }
      ]
    },
    {
      "cell_type": "markdown",
      "metadata": {
        "id": "wdHFpIM6DjOV"
      },
      "source": [
        "**Fine-To-Coarse Mapping**\n",
        "\n",
        "(Ideally, this would be done through spectral clustering as opposed to hard-coding)"
      ]
    },
    {
      "cell_type": "code",
      "source": [
        "# 9 classification\n",
        "fine2coarse = np.zeros((fine_categories,coarse_categories))\n",
        "fine2coarse[0,0] = 1\n",
        "fine2coarse[1,5] = 1\n",
        "fine2coarse[2,5] = 1\n",
        "fine2coarse[3,0] = 1\n",
        "fine2coarse[4,9] = 1\n",
        "fine2coarse[5,10] = 1\n",
        "fine2coarse[6,3] = 1\n",
        "fine2coarse[7,7] = 1\n",
        "fine2coarse[8,4] = 1\n",
        "fine2coarse[9,2] = 1\n",
        "fine2coarse[10,6] = 1\n",
        "fine2coarse[11,5] = 1\n",
        "fine2coarse[12,8] = 1\n",
        "fine2coarse[13,9] = 1\n",
        "fine2coarse[14,4] = 1\n",
        "fine2coarse[15,2] = 1\n",
        "fine2coarse[16,4] = 1\n",
        "fine2coarse[17,6] = 1\n",
        "fine2coarse[18,7] = 1\n",
        "fine2coarse[19,3] = 1\n",
        "fine2coarse[20,8] = 1\n",
        "fine2coarse[21,5] = 1\n",
        "fine2coarse[22,1] = 1\n",
        "fine2coarse[23,4] = 1\n",
        "fine2coarse[24,9] = 1"
      ],
      "metadata": {
        "id": "KD8Z5nRwULob"
      },
      "execution_count": 229,
      "outputs": []
    },
    {
      "cell_type": "code",
      "source": [
        "# 5 classification\n",
        "# fine2coarse = np.zeros((fine_categories,coarse_categories))\n",
        "# fine2coarse[0,0] = 1\n",
        "# fine2coarse[1,2] = 1\n",
        "# fine2coarse[2,2] = 1\n",
        "# fine2coarse[3,0] = 1\n",
        "# fine2coarse[4,2] = 1\n",
        "# fine2coarse[5,2] = 1\n",
        "# fine2coarse[6,1] = 1\n",
        "# fine2coarse[7,3] = 1\n",
        "# fine2coarse[8,2] = 1\n",
        "# fine2coarse[9,1] = 1\n",
        "# fine2coarse[10,2] = 1\n",
        "# fine2coarse[11,3] = 1\n",
        "# fine2coarse[12,2] = 1\n",
        "# fine2coarse[13,1] = 1\n",
        "# fine2coarse[14,3] = 1\n",
        "# fine2coarse[15,3] = 1\n",
        "# fine2coarse[16,1] = 1\n",
        "# fine2coarse[17,3] = 1\n",
        "# fine2coarse[18,2] = 1\n",
        "# fine2coarse[19,1] = 1\n",
        "# fine2coarse[20,3] = 1\n",
        "# fine2coarse[21,4] = 1\n",
        "# fine2coarse[22,1] = 1\n",
        "# fine2coarse[23,4] = 1\n",
        "# fine2coarse[24,4] = 1"
      ],
      "metadata": {
        "id": "qCI15brE1t6r"
      },
      "execution_count": 230,
      "outputs": []
    },
    {
      "cell_type": "code",
      "source": [
        "# 2 classification\n",
        "# fine2coarse = np.zeros((fine_categories,coarse_categories))\n",
        "# fine2coarse[0,0] = 1\n",
        "# fine2coarse[1,1] = 1\n",
        "# fine2coarse[2,1] = 1\n",
        "# fine2coarse[3,0] = 1\n",
        "# fine2coarse[4,1] = 1\n",
        "# fine2coarse[5,1] = 1\n",
        "# fine2coarse[6,0] = 1\n",
        "# fine2coarse[7,1] = 1\n",
        "# fine2coarse[8,0] = 1\n",
        "# fine2coarse[9,0] = 1\n",
        "# fine2coarse[10,1] = 1\n",
        "# fine2coarse[11,1] = 1\n",
        "# fine2coarse[12,1] = 1\n",
        "# fine2coarse[13,1] = 1\n",
        "# fine2coarse[14,0] = 1\n",
        "# fine2coarse[15,0] = 1\n",
        "# fine2coarse[16,0] = 1\n",
        "# fine2coarse[17,1] = 1\n",
        "# fine2coarse[18,1] = 1\n",
        "# fine2coarse[19,0] = 1\n",
        "# fine2coarse[20,1] = 1\n",
        "# fine2coarse[21,1] = 1\n",
        "# fine2coarse[22,0] = 1\n",
        "# fine2coarse[23,0] = 1\n",
        "# fine2coarse[24,1] = 1"
      ],
      "metadata": {
        "id": "DAComiu_NOlg"
      },
      "execution_count": 231,
      "outputs": []
    },
    {
      "cell_type": "code",
      "source": [
        "# with np.printoptions(threshold=np.inf):\n",
        "#     print(fine2coarse)"
      ],
      "metadata": {
        "id": "E5H6y_PEaOMC"
      },
      "execution_count": 232,
      "outputs": []
    },
    {
      "cell_type": "markdown",
      "metadata": {
        "id": "33-wnYgdDjOZ"
      },
      "source": [
        "**Split Training set into Training and Validation sets**"
      ]
    },
    {
      "cell_type": "code",
      "execution_count": 233,
      "metadata": {
        "id": "elDqccurDjOZ"
      },
      "outputs": [],
      "source": [
        "x_train, x_val, y_train, y_val = train_test_split(X_fine, y_fine, test_size=.2,random_state=1234)"
      ]
    },
    {
      "cell_type": "code",
      "source": [
        "import matplotlib.pyplot as plt\n",
        "from IPython.core.display import display, HTML\n",
        "\n",
        "for i in range(0,10):\n",
        "    image = x_train[i]\n",
        "    plt.imshow(image)\n",
        "    plt.show()\n",
        "    print(np.where(y_train[i] == 1)[0])\n",
        "\n",
        "\n",
        "for i in range(0,10):\n",
        "    image = x_val[i]\n",
        "    plt.imshow(image)\n",
        "    plt.show()\n",
        "    print(np.where(y_train[i] == 1)[0])"
      ],
      "metadata": {
        "id": "WTmCiLQwjVx1",
        "colab": {
          "base_uri": "https://localhost:8080/",
          "height": 1000
        },
        "outputId": "535bb072-f9f9-45ca-8faa-44d8084b64f5"
      },
      "execution_count": 234,
      "outputs": [
        {
          "output_type": "stream",
          "name": "stderr",
          "text": [
            "Clipping input data to the valid range for imshow with RGB data ([0..1] for floats or [0..255] for integers).\n"
          ]
        },
        {
          "output_type": "display_data",
          "data": {
            "text/plain": [
              "<Figure size 432x288 with 1 Axes>"
            ],
            "image/png": "[encoded data removed]"
          },
          "metadata": {
            "needs_background": "light"
          }
        },
        {
          "output_type": "stream",
          "name": "stderr",
          "text": [
            "Clipping input data to the valid range for imshow with RGB data ([0..1] for floats or [0..255] for integers).\n"
          ]
        },
        {
          "output_type": "stream",
          "name": "stdout",
          "text": [
            "[23]\n"
          ]
        },
        {
          "output_type": "display_data",
          "data": {
            "text/plain": [
              "<Figure size 432x288 with 1 Axes>"
            ],
            "image/png": "[encoded data removed]"
          },
          "metadata": {
            "needs_background": "light"
          }
        },
        {
          "output_type": "stream",
          "name": "stderr",
          "text": [
            "Clipping input data to the valid range for imshow with RGB data ([0..1] for floats or [0..255] for integers).\n"
          ]
        },
        {
          "output_type": "stream",
          "name": "stdout",
          "text": [
            "[14]\n"
          ]
        },
        {
          "output_type": "display_data",
          "data": {
            "text/plain": [
              "<Figure size 432x288 with 1 Axes>"
            ],
            "image/png": "[encoded data removed]"
          },
          "metadata": {
            "needs_background": "light"
          }
        },
        {
          "output_type": "stream",
          "name": "stdout",
          "text": [
            "[3]\n"
          ]
        },
        {
          "output_type": "stream",
          "name": "stderr",
          "text": [
            "Clipping input data to the valid range for imshow with RGB data ([0..1] for floats or [0..255] for integers).\n"
          ]
        },
        {
          "output_type": "display_data",
          "data": {
            "text/plain": [
              "<Figure size 432x288 with 1 Axes>"
            ],
            "image/png": "[encoded data removed]"
          },
          "metadata": {
            "needs_background": "light"
          }
        },
        {
          "output_type": "stream",
          "name": "stderr",
          "text": [
            "Clipping input data to the valid range for imshow with RGB data ([0..1] for floats or [0..255] for integers).\n"
          ]
        },
        {
          "output_type": "stream",
          "name": "stdout",
          "text": [
            "[9]\n"
          ]
        },
        {
          "output_type": "display_data",
          "data": {
            "text/plain": [
              "<Figure size 432x288 with 1 Axes>"
            ],
            "image/png": "[encoded data removed]"
          },
          "metadata": {
            "needs_background": "light"
          }
        },
        {
          "output_type": "stream",
          "name": "stderr",
          "text": [
            "Clipping input data to the valid range for imshow with RGB data ([0..1] for floats or [0..255] for integers).\n"
          ]
        },
        {
          "output_type": "stream",
          "name": "stdout",
          "text": [
            "[22]\n"
          ]
        },
        {
          "output_type": "display_data",
          "data": {
            "text/plain": [
              "<Figure size 432x288 with 1 Axes>"
            ],
            "image/png": "[encoded data removed]"
          },
          "metadata": {
            "needs_background": "light"
          }
        },
        {
          "output_type": "stream",
          "name": "stderr",
          "text": [
            "Clipping input data to the valid range for imshow with RGB data ([0..1] for floats or [0..255] for integers).\n"
          ]
        },
        {
          "output_type": "stream",
          "name": "stdout",
          "text": [
            "[2]\n"
          ]
        },
        {
          "output_type": "display_data",
          "data": {
            "text/plain": [
              "<Figure size 432x288 with 1 Axes>"
            ],
            "image/png": "[encoded data removed]"
          },
          "metadata": {
            "needs_background": "light"
          }
        },
        {
          "output_type": "stream",
          "name": "stderr",
          "text": [
            "Clipping input data to the valid range for imshow with RGB data ([0..1] for floats or [0..255] for integers).\n"
          ]
        },
        {
          "output_type": "stream",
          "name": "stdout",
          "text": [
            "[5]\n"
          ]
        },
        {
          "output_type": "display_data",
          "data": {
            "text/plain": [
              "<Figure size 432x288 with 1 Axes>"
            ],
            "image/png": "[encoded data removed]"
          },
          "metadata": {
            "needs_background": "light"
          }
        },
        {
          "output_type": "stream",
          "name": "stderr",
          "text": [
            "Clipping input data to the valid range for imshow with RGB data ([0..1] for floats or [0..255] for integers).\n"
          ]
        },
        {
          "output_type": "stream",
          "name": "stdout",
          "text": [
            "[16]\n"
          ]
        },
        {
          "output_type": "display_data",
          "data": {
            "text/plain": [
              "<Figure size 432x288 with 1 Axes>"
            ],
            "image/png": "[encoded data removed]"
          },
          "metadata": {
            "needs_background": "light"
          }
        },
        {
          "output_type": "stream",
          "name": "stderr",
          "text": [
            "Clipping input data to the valid range for imshow with RGB data ([0..1] for floats or [0..255] for integers).\n"
          ]
        },
        {
          "output_type": "stream",
          "name": "stdout",
          "text": [
            "[21]\n"
          ]
        },
        {
          "output_type": "display_data",
          "data": {
            "text/plain": [
              "<Figure size 432x288 with 1 Axes>"
            ],
            "image/png": "[encoded data removed]"
          },
          "metadata": {
            "needs_background": "light"
          }
        },
        {
          "output_type": "stream",
          "name": "stderr",
          "text": [
            "Clipping input data to the valid range for imshow with RGB data ([0..1] for floats or [0..255] for integers).\n"
          ]
        },
        {
          "output_type": "stream",
          "name": "stdout",
          "text": [
            "[3]\n"
          ]
        },
        {
          "output_type": "display_data",
          "data": {
            "text/plain": [
              "<Figure size 432x288 with 1 Axes>"
            ],
            "image/png": "[encoded data removed]"
          },
          "metadata": {
            "needs_background": "light"
          }
        },
        {
          "output_type": "stream",
          "name": "stderr",
          "text": [
            "Clipping input data to the valid range for imshow with RGB data ([0..1] for floats or [0..255] for integers).\n"
          ]
        },
        {
          "output_type": "stream",
          "name": "stdout",
          "text": [
            "[23]\n"
          ]
        },
        {
          "output_type": "display_data",
          "data": {
            "text/plain": [
              "<Figure size 432x288 with 1 Axes>"
            ],
            "image/png": "[encoded data removed]"
          },
          "metadata": {
            "needs_background": "light"
          }
        },
        {
          "output_type": "stream",
          "name": "stderr",
          "text": [
            "Clipping input data to the valid range for imshow with RGB data ([0..1] for floats or [0..255] for integers).\n"
          ]
        },
        {
          "output_type": "stream",
          "name": "stdout",
          "text": [
            "[14]\n"
          ]
        },
        {
          "output_type": "display_data",
          "data": {
            "text/plain": [
              "<Figure size 432x288 with 1 Axes>"
            ],
            "image/png": "[encoded data removed]"
          },
          "metadata": {
            "needs_background": "light"
          }
        },
        {
          "output_type": "stream",
          "name": "stderr",
          "text": [
            "Clipping input data to the valid range for imshow with RGB data ([0..1] for floats or [0..255] for integers).\n"
          ]
        },
        {
          "output_type": "stream",
          "name": "stdout",
          "text": [
            "[3]\n"
          ]
        },
        {
          "output_type": "display_data",
          "data": {
            "text/plain": [
              "<Figure size 432x288 with 1 Axes>"
            ],
            "image/png": "[encoded data removed]"
          },
          "metadata": {
            "needs_background": "light"
          }
        },
        {
          "output_type": "stream",
          "name": "stderr",
          "text": [
            "Clipping input data to the valid range for imshow with RGB data ([0..1] for floats or [0..255] for integers).\n"
          ]
        },
        {
          "output_type": "stream",
          "name": "stdout",
          "text": [
            "[9]\n"
          ]
        },
        {
          "output_type": "display_data",
          "data": {
            "text/plain": [
              "<Figure size 432x288 with 1 Axes>"
            ],
            "image/png": "[encoded data removed]"
          },
          "metadata": {
            "needs_background": "light"
          }
        },
        {
          "output_type": "stream",
          "name": "stderr",
          "text": [
            "Clipping input data to the valid range for imshow with RGB data ([0..1] for floats or [0..255] for integers).\n"
          ]
        },
        {
          "output_type": "stream",
          "name": "stdout",
          "text": [
            "[22]\n"
          ]
        },
        {
          "output_type": "display_data",
          "data": {
            "text/plain": [
              "<Figure size 432x288 with 1 Axes>"
            ],
            "image/png": "[encoded data removed]"
          },
          "metadata": {
            "needs_background": "light"
          }
        },
        {
          "output_type": "stream",
          "name": "stderr",
          "text": [
            "Clipping input data to the valid range for imshow with RGB data ([0..1] for floats or [0..255] for integers).\n"
          ]
        },
        {
          "output_type": "stream",
          "name": "stdout",
          "text": [
            "[2]\n"
          ]
        },
        {
          "output_type": "display_data",
          "data": {
            "text/plain": [
              "<Figure size 432x288 with 1 Axes>"
            ],
            "image/png": "[encoded data removed]"
          },
          "metadata": {
            "needs_background": "light"
          }
        },
        {
          "output_type": "stream",
          "name": "stderr",
          "text": [
            "Clipping input data to the valid range for imshow with RGB data ([0..1] for floats or [0..255] for integers).\n"
          ]
        },
        {
          "output_type": "stream",
          "name": "stdout",
          "text": [
            "[5]\n"
          ]
        },
        {
          "output_type": "display_data",
          "data": {
            "text/plain": [
              "<Figure size 432x288 with 1 Axes>"
            ],
            "image/png": "[encoded data removed]"
          },
          "metadata": {
            "needs_background": "light"
          }
        },
        {
          "output_type": "stream",
          "name": "stderr",
          "text": [
            "Clipping input data to the valid range for imshow with RGB data ([0..1] for floats or [0..255] for integers).\n"
          ]
        },
        {
          "output_type": "stream",
          "name": "stdout",
          "text": [
            "[16]\n"
          ]
        },
        {
          "output_type": "display_data",
          "data": {
            "text/plain": [
              "<Figure size 432x288 with 1 Axes>"
            ],
            "image/png": "[encoded data removed]"
          },
          "metadata": {
            "needs_background": "light"
          }
        },
        {
          "output_type": "stream",
          "name": "stderr",
          "text": [
            "Clipping input data to the valid range for imshow with RGB data ([0..1] for floats or [0..255] for integers).\n"
          ]
        },
        {
          "output_type": "stream",
          "name": "stdout",
          "text": [
            "[21]\n"
          ]
        },
        {
          "output_type": "display_data",
          "data": {
            "text/plain": [
              "<Figure size 432x288 with 1 Axes>"
            ],
            "image/png": "[encoded data removed]"
          },
          "metadata": {
            "needs_background": "light"
          }
        },
        {
          "output_type": "stream",
          "name": "stdout",
          "text": [
            "[3]\n"
          ]
        }
      ]
    },
    {
      "cell_type": "code",
      "source": [
        "# y_fine_eight = y_fine[np.argwhere(y_fine==1)[:,1] < 8]\n",
        "# X_fine_eight = X_fine[np.argwhere(y_fine==1)[:,1] < 8]\n",
        "# x_train_eight, x_val_eight, y_train_eight, y_val_eight = train_test_split(X_fine_eight, y_fine_eight, test_size=.1,shuffle=True)"
      ],
      "metadata": {
        "id": "GsYVTQhoVnrF"
      },
      "execution_count": 235,
      "outputs": []
    },
    {
      "cell_type": "markdown",
      "metadata": {
        "id": "8oUI-QnFDjOc"
      },
      "source": [
        "**Constructing CNN**"
      ]
    },
    {
      "cell_type": "code",
      "execution_count": 236,
      "metadata": {
        "id": "ILCBmsHkDjOc"
      },
      "outputs": [],
      "source": [
        "from keras import optimizers\n",
        "from keras.layers import Input, Conv2D, Dropout, MaxPooling2D, Flatten, Dense, BatchNormalization\n",
        "from keras.models import Model\n",
        "\n",
        "in_layer = Input(shape=(64,64, 3), dtype='float32', name='main_input')\n",
        "\n",
        "net = Conv2D(64, 3, strides=1, padding='same', activation='relu')(in_layer)\n",
        "net = BatchNormalization()(net)\n",
        "net = MaxPooling2D((2, 2), padding='valid')(net)\n",
        "\n",
        "net = Conv2D(128, 3, strides=1, padding='same', activation='relu')(net)\n",
        "net = BatchNormalization()(net)\n",
        "net = Dropout(.1)(net)\n",
        "net = MaxPooling2D((2, 2), padding='valid')(net)\n",
        "\n",
        "net = Conv2D(256, 3, strides=1, padding='same', activation='relu')(net)\n",
        "net = BatchNormalization()(net)\n",
        "net = Dropout(.2)(net)\n",
        "net = MaxPooling2D((2, 2), padding='valid')(net)\n",
        "\n",
        "net = Conv2D(512, 3, strides=1, padding='same', activation='relu')(net)\n",
        "net = BatchNormalization()(net)\n",
        "net = Dropout(.3)(net)\n",
        "net = MaxPooling2D((2, 2), padding='valid')(net)\n",
        "\n",
        "net = Flatten()(net)\n",
        "\n",
        "net = Dense(1024, activation='relu')(net)\n",
        "net = BatchNormalization()(net)\n",
        "net = Dropout(.3)(net)\n",
        "net = Dense(25, activation='softmax')(net)"
      ]
    },
    {
      "cell_type": "markdown",
      "metadata": {
        "id": "_2rtuFv9DjOc"
      },
      "source": [
        "**Compile Model**"
      ]
    },
    {
      "cell_type": "code",
      "execution_count": 237,
      "metadata": {
        "id": "xJsd6YQ6DjOc"
      },
      "outputs": [],
      "source": [
        "model = Model(inputs=in_layer,outputs=net)\n",
        "adam_coarse = tf.keras.optimizers.Adam(learning_rate=0.001)\n",
        "model.compile(optimizer= adam_coarse, loss='categorical_crossentropy', metrics=['accuracy'])\n",
        "tbCallBack = kr.callbacks.TensorBoard(log_dir='./data/graph/relu_drop/', histogram_freq=0, write_graph=True, write_images=True)"
      ]
    },
    {
      "cell_type": "code",
      "source": [
        "batch = 16"
      ],
      "metadata": {
        "id": "0u_oZwXndb4R"
      },
      "execution_count": 238,
      "outputs": []
    },
    {
      "cell_type": "markdown",
      "metadata": {
        "id": "iVJdJDduDjOd"
      },
      "source": [
        "**Train Model**"
      ]
    },
    {
      "cell_type": "code",
      "execution_count": 239,
      "metadata": {
        "id": "Y47GeFu4DjOd",
        "colab": {
          "base_uri": "https://localhost:8080/"
        },
        "outputId": "4cb0150a-489f-4f87-e063-3826ddb28ead"
      },
      "outputs": [
        {
          "output_type": "stream",
          "name": "stdout",
          "text": [
            "Train on 8090 samples, validate on 2023 samples\n",
            "Epoch 1/5\n",
            "8048/8090 [============================>.] - ETA: 0s - loss: 3.1264 - acc: 0.1582"
          ]
        },
        {
          "output_type": "stream",
          "name": "stderr",
          "text": [
            "/usr/local/lib/python3.7/dist-packages/keras/engine/training_v1.py:2057: UserWarning: `Model.state_updates` will be removed in a future version. This property should not be used in TensorFlow 2.0, as `updates` are applied automatically.\n",
            "  updates = self.state_updates\n"
          ]
        },
        {
          "output_type": "stream",
          "name": "stdout",
          "text": [
            "\b\b\b\b\b\b\b\b\b\b\b\b\b\b\b\b\b\b\b\b\b\b\b\b\b\b\b\b\b\b\b\b\b\b\b\b\b\b\b\b\b\b\b\b\b\b\b\b\b\b\b\b\b\b\b\b\b\b\b\b\b\b\b\b\b\b\b\b\b\b\b\b\b\b\b\b\b\b\b\b\b\r8090/8090 [==============================] - 11s 1ms/sample - loss: 3.1235 - acc: 0.1588 - val_loss: 3.8292 - val_acc: 0.1918\n",
            "Epoch 2/5\n",
            "8090/8090 [==============================] - 7s 866us/sample - loss: 2.5949 - acc: 0.2551 - val_loss: 3.1308 - val_acc: 0.2373\n",
            "Epoch 3/5\n",
            "8090/8090 [==============================] - 7s 866us/sample - loss: 2.3046 - acc: 0.3252 - val_loss: 2.5011 - val_acc: 0.2862\n",
            "Epoch 4/5\n",
            "8090/8090 [==============================] - 7s 862us/sample - loss: 2.0635 - acc: 0.3812 - val_loss: 2.6062 - val_acc: 0.3554\n",
            "Epoch 5/5\n",
            "8090/8090 [==============================] - 7s 862us/sample - loss: 1.8516 - acc: 0.4370 - val_loss: 2.8765 - val_acc: 0.3267\n",
            "Train on 8090 samples, validate on 2023 samples\n",
            "Epoch 6/10\n",
            "8090/8090 [==============================] - 7s 871us/sample - loss: 1.6370 - acc: 0.4953 - val_loss: 4.2042 - val_acc: 0.2091\n",
            "Epoch 7/10\n",
            "8090/8090 [==============================] - 7s 868us/sample - loss: 1.4873 - acc: 0.5422 - val_loss: 2.5961 - val_acc: 0.3618\n",
            "Epoch 8/10\n",
            "8090/8090 [==============================] - 7s 869us/sample - loss: 1.1850 - acc: 0.6305 - val_loss: 2.7822 - val_acc: 0.3450\n",
            "Epoch 9/10\n",
            "8090/8090 [==============================] - 7s 873us/sample - loss: 0.9666 - acc: 0.6956 - val_loss: 3.1607 - val_acc: 0.3356\n",
            "Epoch 10/10\n",
            "8090/8090 [==============================] - 7s 869us/sample - loss: 0.7811 - acc: 0.7514 - val_loss: 3.3774 - val_acc: 0.3534\n",
            "Train on 8090 samples, validate on 2023 samples\n",
            "Epoch 11/15\n",
            "8090/8090 [==============================] - 7s 917us/sample - loss: 0.6827 - acc: 0.7852 - val_loss: 3.8200 - val_acc: 0.3465\n",
            "Epoch 12/15\n",
            "8090/8090 [==============================] - 7s 866us/sample - loss: 0.5814 - acc: 0.8101 - val_loss: 3.6928 - val_acc: 0.3796\n",
            "Epoch 13/15\n",
            "8090/8090 [==============================] - 7s 874us/sample - loss: 0.4853 - acc: 0.8413 - val_loss: 3.6905 - val_acc: 0.3737\n",
            "Epoch 14/15\n",
            "8090/8090 [==============================] - 7s 879us/sample - loss: 0.4615 - acc: 0.8480 - val_loss: 3.8187 - val_acc: 0.3737\n",
            "Epoch 15/15\n",
            "8090/8090 [==============================] - 7s 863us/sample - loss: 0.4371 - acc: 0.8564 - val_loss: 3.7766 - val_acc: 0.3826\n",
            "Train on 8090 samples, validate on 2023 samples\n",
            "Epoch 16/20\n",
            "8090/8090 [==============================] - 7s 869us/sample - loss: 0.3392 - acc: 0.8871 - val_loss: 3.9320 - val_acc: 0.3969\n",
            "Epoch 17/20\n",
            "8090/8090 [==============================] - 7s 862us/sample - loss: 0.2632 - acc: 0.9150 - val_loss: 4.9494 - val_acc: 0.3811\n",
            "Epoch 18/20\n",
            "8090/8090 [==============================] - 7s 864us/sample - loss: 0.2854 - acc: 0.9027 - val_loss: 4.1414 - val_acc: 0.3851\n",
            "Epoch 19/20\n",
            "8090/8090 [==============================] - 7s 862us/sample - loss: 0.2277 - acc: 0.9267 - val_loss: 4.5594 - val_acc: 0.3930\n",
            "Epoch 20/20\n",
            "8090/8090 [==============================] - 7s 868us/sample - loss: 0.2028 - acc: 0.9341 - val_loss: 4.5173 - val_acc: 0.3866\n",
            "Train on 8090 samples, validate on 2023 samples\n",
            "Epoch 21/25\n",
            "8090/8090 [==============================] - 7s 922us/sample - loss: 0.2026 - acc: 0.9313 - val_loss: 4.6196 - val_acc: 0.3885\n",
            "Epoch 22/25\n",
            "8090/8090 [==============================] - 7s 862us/sample - loss: 0.2480 - acc: 0.9179 - val_loss: 4.8118 - val_acc: 0.3994\n",
            "Epoch 23/25\n",
            "8090/8090 [==============================] - 7s 865us/sample - loss: 0.2815 - acc: 0.9080 - val_loss: 4.6299 - val_acc: 0.3712\n",
            "Epoch 24/25\n",
            "8090/8090 [==============================] - 7s 866us/sample - loss: 0.2041 - acc: 0.9326 - val_loss: 4.4794 - val_acc: 0.3989\n",
            "Epoch 25/25\n",
            "8090/8090 [==============================] - 7s 865us/sample - loss: 0.1934 - acc: 0.9389 - val_loss: 4.8462 - val_acc: 0.3786\n",
            "Train on 8090 samples, validate on 2023 samples\n",
            "Epoch 26/30\n",
            "8090/8090 [==============================] - 7s 918us/sample - loss: 0.3853 - acc: 0.8791 - val_loss: 4.8795 - val_acc: 0.3589\n",
            "Epoch 27/30\n",
            "8090/8090 [==============================] - 7s 866us/sample - loss: 0.2777 - acc: 0.9094 - val_loss: 4.5473 - val_acc: 0.3885\n",
            "Epoch 28/30\n",
            "8090/8090 [==============================] - 7s 867us/sample - loss: 0.1735 - acc: 0.9455 - val_loss: 4.3094 - val_acc: 0.3989\n",
            "Epoch 29/30\n",
            "8090/8090 [==============================] - 7s 859us/sample - loss: 0.1284 - acc: 0.9578 - val_loss: 4.7746 - val_acc: 0.3940\n",
            "Epoch 30/30\n",
            "8090/8090 [==============================] - 7s 858us/sample - loss: 0.1217 - acc: 0.9590 - val_loss: 4.9107 - val_acc: 0.3791\n"
          ]
        }
      ],
      "source": [
        "index= 0\n",
        "step = 5\n",
        "stop = 30\n",
        "\n",
        "\n",
        "while index < stop:\n",
        "    model.fit(x_train, y_train, batch_size=batch, initial_epoch=index, epochs=index+step, validation_data=(x_val, y_val), callbacks=[tbCallBack])\n",
        "    index += step\n",
        "    model.save_weights('data/models/model_coarse'+str(index))\n",
        "\n",
        "save_index = index"
      ]
    },
    {
      "cell_type": "code",
      "source": [
        "# index= 0\n",
        "# step = 5\n",
        "# stop = 40\n",
        "# batch = 64\n",
        "# while index < stop:\n",
        "#     model.fit(x_train_eight, y_train_eight, batch_size=batch, initial_epoch=index, epochs=index+step, validation_data=(x_val_eight, y_val_eight), callbacks=[tbCallBack])\n",
        "#     index += step\n",
        "#     model.save_weights('data/models/model_coarse'+str(index))\n",
        "# save_index = index"
      ],
      "metadata": {
        "id": "uKpJz1uddhNc"
      },
      "execution_count": 240,
      "outputs": []
    },
    {
      "cell_type": "markdown",
      "metadata": {
        "id": "doPrf6oODjOe"
      },
      "source": [
        "### Load Most Recent Model"
      ]
    },
    {
      "cell_type": "code",
      "execution_count": 241,
      "metadata": {
        "id": "m-zzRp0iDjOe"
      },
      "outputs": [],
      "source": [
        "adam_fine =  tf.keras.optimizers.Adam(learning_rate=0.0001)"
      ]
    },
    {
      "cell_type": "code",
      "execution_count": 242,
      "metadata": {
        "id": "HcV-ylYKDjOe"
      },
      "outputs": [],
      "source": [
        "for i in range(len(model.layers)):\n",
        "    model.layers[i].trainable=False"
      ]
    },
    {
      "cell_type": "markdown",
      "metadata": {
        "id": "nh5MGsa8DjOe"
      },
      "source": [
        "## Fine-Tuning for Coarse Classifier"
      ]
    },
    {
      "cell_type": "code",
      "execution_count": 243,
      "metadata": {
        "id": "KKXGCDnODjOf"
      },
      "outputs": [],
      "source": [
        "y_train_c = np.dot(y_train,fine2coarse)\n",
        "y_val_c = np.dot(y_val,fine2coarse)"
      ]
    },
    {
      "cell_type": "code",
      "execution_count": 244,
      "metadata": {
        "id": "iN0JI7ErDjOf"
      },
      "outputs": [],
      "source": [
        "net = Conv2D(512, 3, strides=1, padding='same', activation='relu')(model.layers[-10].output)\n",
        "net = BatchNormalization()(net)\n",
        "net = Dropout(.3)(net)\n",
        "net = MaxPooling2D((2, 2), padding='valid')(net)\n",
        "\n",
        "net = Flatten()(net)\n",
        "\n",
        "net = Dense(1024, activation='relu')(net)\n",
        "net = BatchNormalization()(net)\n",
        "net = Dropout(.3)(net)\n",
        "out_coarse = Dense(11, activation='softmax')(net)\n",
        "\n",
        "model_c = Model(inputs=in_layer,outputs=out_coarse)\n",
        "model_c.compile(optimizer= adam_coarse, loss='categorical_crossentropy', metrics=['accuracy'])\n",
        "\n",
        "for i in range(len(model_c.layers)-1):\n",
        "    model_c.layers[i].set_weights(model.layers[i].get_weights())"
      ]
    },
    {
      "cell_type": "code",
      "execution_count": 245,
      "metadata": {
        "colab": {
          "base_uri": "https://localhost:8080/"
        },
        "id": "afdV_EKCDjOf",
        "outputId": "43283279-b003-41d1-d953-790033731b1f"
      },
      "outputs": [
        {
          "output_type": "stream",
          "name": "stdout",
          "text": [
            "Train on 8090 samples, validate on 2023 samples\n",
            "Epoch 31/40\n",
            "8080/8090 [============================>.] - ETA: 0s - loss: 1.0876 - acc: 0.6361"
          ]
        },
        {
          "output_type": "stream",
          "name": "stderr",
          "text": [
            "/usr/local/lib/python3.7/dist-packages/keras/engine/training_v1.py:2057: UserWarning: `Model.state_updates` will be removed in a future version. This property should not be used in TensorFlow 2.0, as `updates` are applied automatically.\n",
            "  updates = self.state_updates\n"
          ]
        },
        {
          "output_type": "stream",
          "name": "stdout",
          "text": [
            "\b\b\b\b\b\b\b\b\b\b\b\b\b\b\b\b\b\b\b\b\b\b\b\b\b\b\b\b\b\b\b\b\b\b\b\b\b\b\b\b\b\b\b\b\b\b\b\b\b\b\b\b\b\b\b\b\b\b\b\b\b\b\b\b\b\b\b\b\b\b\b\b\b\b\b\b\b\b\b\b\b\r8090/8090 [==============================] - 9s 1ms/sample - loss: 1.0878 - acc: 0.6362 - val_loss: 2.3784 - val_acc: 0.4523\n",
            "Epoch 32/40\n",
            "8090/8090 [==============================] - 5s 644us/sample - loss: 0.5174 - acc: 0.8150 - val_loss: 2.5137 - val_acc: 0.4770\n",
            "Epoch 33/40\n",
            "8090/8090 [==============================] - 5s 646us/sample - loss: 0.3330 - acc: 0.8870 - val_loss: 2.3508 - val_acc: 0.4834\n",
            "Epoch 34/40\n",
            "8090/8090 [==============================] - 5s 644us/sample - loss: 0.2427 - acc: 0.9133 - val_loss: 2.7551 - val_acc: 0.4909\n",
            "Epoch 35/40\n",
            "8090/8090 [==============================] - 5s 646us/sample - loss: 0.2092 - acc: 0.9290 - val_loss: 2.8125 - val_acc: 0.4869\n",
            "Epoch 36/40\n",
            "8090/8090 [==============================] - 5s 649us/sample - loss: 0.1713 - acc: 0.9407 - val_loss: 2.9597 - val_acc: 0.4993\n",
            "Epoch 37/40\n",
            "8090/8090 [==============================] - 5s 648us/sample - loss: 0.1540 - acc: 0.9472 - val_loss: 2.9875 - val_acc: 0.5190\n",
            "Epoch 38/40\n",
            "8090/8090 [==============================] - 5s 648us/sample - loss: 0.1548 - acc: 0.9449 - val_loss: 3.2384 - val_acc: 0.5057\n",
            "Epoch 39/40\n",
            "8090/8090 [==============================] - 5s 645us/sample - loss: 0.1482 - acc: 0.9470 - val_loss: 3.2991 - val_acc: 0.5047\n",
            "Epoch 40/40\n",
            "8090/8090 [==============================] - 5s 649us/sample - loss: 0.1418 - acc: 0.9529 - val_loss: 3.3997 - val_acc: 0.4928\n"
          ]
        }
      ],
      "source": [
        "index = 30\n",
        "step = 10\n",
        "stop = 40\n",
        "\n",
        "while index < stop:\n",
        "    model_c.fit(x_train, y_train_c, batch_size=batch, initial_epoch=index, epochs=index+step, validation_data=(x_val, y_val_c), callbacks=[tbCallBack])\n",
        "    index += step"
      ]
    },
    {
      "cell_type": "code",
      "execution_count": 246,
      "metadata": {
        "colab": {
          "base_uri": "https://localhost:8080/"
        },
        "id": "fQv1R7OnDjOf",
        "outputId": "a011a215-fd0a-4218-b7d7-f9227e169eb2"
      },
      "outputs": [
        {
          "output_type": "stream",
          "name": "stdout",
          "text": [
            "Train on 8090 samples, validate on 2023 samples\n",
            "Epoch 41/50\n",
            "8080/8090 [============================>.] - ETA: 0s - loss: 0.0971 - acc: 0.9660"
          ]
        },
        {
          "output_type": "stream",
          "name": "stderr",
          "text": [
            "/usr/local/lib/python3.7/dist-packages/keras/engine/training_v1.py:2057: UserWarning: `Model.state_updates` will be removed in a future version. This property should not be used in TensorFlow 2.0, as `updates` are applied automatically.\n",
            "  updates = self.state_updates\n"
          ]
        },
        {
          "output_type": "stream",
          "name": "stdout",
          "text": [
            "\b\b\b\b\b\b\b\b\b\b\b\b\b\b\b\b\b\b\b\b\b\b\b\b\b\b\b\b\b\b\b\b\b\b\b\b\b\b\b\b\b\b\b\b\b\b\b\b\b\b\b\b\b\b\b\b\b\b\b\b\b\b\b\b\b\b\b\b\b\b\b\b\b\b\b\b\b\b\b\b\b\r8090/8090 [==============================] - 9s 1ms/sample - loss: 0.0981 - acc: 0.9658 - val_loss: 3.1869 - val_acc: 0.5052\n",
            "Epoch 42/50\n",
            "8090/8090 [==============================] - 5s 650us/sample - loss: 0.0846 - acc: 0.9718 - val_loss: 3.1988 - val_acc: 0.5101\n",
            "Epoch 43/50\n",
            "8090/8090 [==============================] - 5s 654us/sample - loss: 0.0733 - acc: 0.9744 - val_loss: 3.1957 - val_acc: 0.5077\n",
            "Epoch 44/50\n",
            "8090/8090 [==============================] - 5s 652us/sample - loss: 0.0677 - acc: 0.9789 - val_loss: 3.2019 - val_acc: 0.5067\n",
            "Epoch 45/50\n",
            "8090/8090 [==============================] - 5s 643us/sample - loss: 0.0686 - acc: 0.9768 - val_loss: 3.1738 - val_acc: 0.5106\n",
            "Epoch 46/50\n",
            "8090/8090 [==============================] - 5s 648us/sample - loss: 0.0542 - acc: 0.9824 - val_loss: 3.2125 - val_acc: 0.5057\n",
            "Epoch 47/50\n",
            "8090/8090 [==============================] - 5s 645us/sample - loss: 0.0527 - acc: 0.9822 - val_loss: 3.2178 - val_acc: 0.5082\n",
            "Epoch 48/50\n",
            "8090/8090 [==============================] - 5s 654us/sample - loss: 0.0587 - acc: 0.9816 - val_loss: 3.2380 - val_acc: 0.5077\n",
            "Epoch 49/50\n",
            "8090/8090 [==============================] - 5s 649us/sample - loss: 0.0475 - acc: 0.9849 - val_loss: 3.2299 - val_acc: 0.5091\n",
            "Epoch 50/50\n",
            "8090/8090 [==============================] - 5s 679us/sample - loss: 0.0425 - acc: 0.9869 - val_loss: 3.2165 - val_acc: 0.5166\n"
          ]
        }
      ],
      "source": [
        "model_c.compile(optimizer= adam_fine, loss='categorical_crossentropy', metrics=['accuracy'])\n",
        "stop = 50\n",
        "\n",
        "while index < stop:\n",
        "    model_c.fit(x_train, y_train_c, batch_size=batch, initial_epoch=index, epochs=index+step, validation_data=(x_val, y_val_c), callbacks=[tbCallBack])\n",
        "    index += step"
      ]
    },
    {
      "cell_type": "markdown",
      "metadata": {
        "id": "qmbBzJfqDjOg"
      },
      "source": [
        "## Fine-Tuning for Fine Classifiers"
      ]
    },
    {
      "cell_type": "markdown",
      "metadata": {
        "id": "y7yQPE9aDjOg"
      },
      "source": [
        "### Construct Fine Classifiers"
      ]
    },
    {
      "cell_type": "code",
      "execution_count": 247,
      "metadata": {
        "id": "rdK9OAoMDjOg"
      },
      "outputs": [],
      "source": [
        "def fine_model():\n",
        "\n",
        "    net = Conv2D(512, 3, strides=1, padding='same', activation='relu')(model.layers[-10].output)\n",
        "    net = BatchNormalization()(net)\n",
        "    net = Dropout(.3)(net)\n",
        "    net = MaxPooling2D((2, 2), padding='valid')(net)\n",
        "\n",
        "    net = Flatten()(net)\n",
        "\n",
        "    net = Dense(1024, activation='relu')(net)\n",
        "    net = BatchNormalization()(net)\n",
        "    net = Dropout(.3)(net)\n",
        "    out_fine = Dense(25, activation='softmax')(net)\n",
        "\n",
        "\n",
        "    model_fine = Model(inputs=in_layer,outputs=out_fine)\n",
        "    model_fine.compile(optimizer= adam_coarse,\n",
        "              loss='categorical_crossentropy',\n",
        "              metrics=['accuracy'])\n",
        "    \n",
        "    for i in range(len(model_fine.layers)-1):\n",
        "        model_fine.layers[i].set_weights(model.layers[i].get_weights())\n",
        "    return model_fine"
      ]
    },
    {
      "cell_type": "code",
      "execution_count": 248,
      "metadata": {
        "id": "XwMV2BNQDjOg"
      },
      "outputs": [],
      "source": [
        "fine_models = {'models' : [{} for i in range(coarse_categories)], 'yhf' : [{} for i in range(coarse_categories)]}\n",
        "for i in range(coarse_categories):\n",
        "    model_i = fine_model()\n",
        "    fine_models['models'][i] = model_i"
      ]
    },
    {
      "cell_type": "markdown",
      "metadata": {
        "id": "u3bZP_2CDjOg"
      },
      "source": [
        "### Train Fine Classifiers on Respective Data"
      ]
    },
    {
      "cell_type": "code",
      "execution_count": 249,
      "metadata": {
        "id": "p7kjaEpnDjOh"
      },
      "outputs": [],
      "source": [
        "def get_error(y,yh):\n",
        "    # Threshold \n",
        "    yht = np.zeros(np.shape(yh))\n",
        "    yht[np.arange(len(yh)), yh.argmax(1)] = 1\n",
        "    # Evaluate Error\n",
        "    error = np.count_nonzero(np.count_nonzero(y-yht,1))/len(y)\n",
        "    return error"
      ]
    },
    {
      "cell_type": "code",
      "execution_count": 250,
      "metadata": {
        "colab": {
          "base_uri": "https://localhost:8080/"
        },
        "id": "qVkFtywwDjOh",
        "outputId": "19e92fa0-9eea-493f-bc90-520879beca54"
      },
      "outputs": [
        {
          "output_type": "stream",
          "name": "stdout",
          "text": [
            "Train on 644 samples, validate on 154 samples\n",
            "Epoch 1/5\n",
            "576/644 [=========================>....] - ETA: 0s - loss: 0.7456 - acc: 0.8160"
          ]
        },
        {
          "output_type": "stream",
          "name": "stderr",
          "text": [
            "/usr/local/lib/python3.7/dist-packages/keras/engine/training_v1.py:2057: UserWarning: `Model.state_updates` will be removed in a future version. This property should not be used in TensorFlow 2.0, as `updates` are applied automatically.\n",
            "  updates = self.state_updates\n"
          ]
        },
        {
          "output_type": "stream",
          "name": "stdout",
          "text": [
            "\b\b\b\b\b\b\b\b\b\b\b\b\b\b\b\b\b\b\b\b\b\b\b\b\b\b\b\b\b\b\b\b\b\b\b\b\b\b\b\b\b\b\b\b\b\b\b\b\b\b\b\b\b\b\b\b\b\b\b\b\b\b\b\b\b\b\b\b\b\b\b\b\b\b\b\b\b\b\b\r644/644 [==============================] - 4s 7ms/sample - loss: 0.7224 - acc: 0.8230 - val_loss: 1.6426 - val_acc: 0.7922\n",
            "Epoch 2/5\n",
            "644/644 [==============================] - 0s 700us/sample - loss: 0.2305 - acc: 0.9301 - val_loss: 1.4795 - val_acc: 0.7597\n",
            "Epoch 3/5\n",
            "644/644 [==============================] - 0s 689us/sample - loss: 0.0896 - acc: 0.9689 - val_loss: 1.0397 - val_acc: 0.7727\n",
            "Epoch 4/5\n",
            "644/644 [==============================] - 0s 683us/sample - loss: 0.0548 - acc: 0.9798 - val_loss: 0.8181 - val_acc: 0.8117\n",
            "Epoch 5/5\n",
            "644/644 [==============================] - 0s 676us/sample - loss: 0.0312 - acc: 0.9876 - val_loss: 0.8925 - val_acc: 0.7987\n",
            "Train on 644 samples, validate on 154 samples\n",
            "Epoch 6/10\n",
            "644/644 [==============================] - 0s 669us/sample - loss: 0.0235 - acc: 0.9953 - val_loss: 0.8000 - val_acc: 0.8182\n",
            "Epoch 7/10\n",
            "644/644 [==============================] - 0s 684us/sample - loss: 0.0218 - acc: 0.9922 - val_loss: 0.9064 - val_acc: 0.7987\n",
            "Epoch 8/10\n",
            "644/644 [==============================] - 0s 691us/sample - loss: 0.0252 - acc: 0.9876 - val_loss: 0.9941 - val_acc: 0.7922\n",
            "Epoch 9/10\n",
            "644/644 [==============================] - 0s 693us/sample - loss: 0.0317 - acc: 0.9891 - val_loss: 1.3243 - val_acc: 0.7532\n",
            "Epoch 10/10\n",
            "644/644 [==============================] - 0s 668us/sample - loss: 0.0232 - acc: 0.9938 - val_loss: 1.1875 - val_acc: 0.7338\n",
            "Train on 644 samples, validate on 154 samples\n",
            "Epoch 11/15\n",
            "644/644 [==============================] - 0s 672us/sample - loss: 0.0170 - acc: 0.9938 - val_loss: 1.1073 - val_acc: 0.7727\n",
            "Epoch 12/15\n",
            "644/644 [==============================] - 0s 679us/sample - loss: 0.0097 - acc: 0.9953 - val_loss: 0.9418 - val_acc: 0.8182\n",
            "Epoch 13/15\n",
            "644/644 [==============================] - 0s 674us/sample - loss: 0.0190 - acc: 0.9922 - val_loss: 1.0832 - val_acc: 0.7857\n",
            "Epoch 14/15\n",
            "644/644 [==============================] - 0s 682us/sample - loss: 0.0090 - acc: 0.9953 - val_loss: 1.0644 - val_acc: 0.8052\n",
            "Epoch 15/15\n",
            "644/644 [==============================] - 0s 676us/sample - loss: 0.0211 - acc: 0.9891 - val_loss: 1.0927 - val_acc: 0.8182\n"
          ]
        },
        {
          "output_type": "stream",
          "name": "stderr",
          "text": [
            "/usr/local/lib/python3.7/dist-packages/keras/engine/training_v1.py:2079: UserWarning: `Model.state_updates` will be removed in a future version. This property should not be used in TensorFlow 2.0, as `updates` are applied automatically.\n",
            "  updates=self.state_updates,\n"
          ]
        },
        {
          "output_type": "stream",
          "name": "stdout",
          "text": [
            "Fine Classifier 0 Error: 0.18181818181818182\n",
            "Train on 247 samples, validate on 54 samples\n",
            "Epoch 1/5\n",
            "247/247 [==============================] - 4s 16ms/sample - loss: 1.3904 - acc: 0.6437 - val_loss: 3.8417e-04 - val_acc: 1.0000\n",
            "Epoch 2/5\n",
            "247/247 [==============================] - 0s 715us/sample - loss: 0.0032 - acc: 1.0000 - val_loss: 7.9160e-06 - val_acc: 1.0000\n",
            "Epoch 3/5\n",
            "247/247 [==============================] - 0s 703us/sample - loss: 4.6683e-05 - acc: 1.0000 - val_loss: 2.0707e-06 - val_acc: 1.0000\n",
            "Epoch 4/5\n",
            "247/247 [==============================] - 0s 737us/sample - loss: 2.1452e-05 - acc: 1.0000 - val_loss: 1.1479e-06 - val_acc: 1.0000\n",
            "Epoch 5/5\n",
            "247/247 [==============================] - 0s 715us/sample - loss: 7.5022e-05 - acc: 1.0000 - val_loss: 7.9252e-07 - val_acc: 1.0000\n",
            "Train on 247 samples, validate on 54 samples\n",
            "Epoch 6/10\n",
            "247/247 [==============================] - 0s 723us/sample - loss: 2.7152e-05 - acc: 1.0000 - val_loss: 5.6293e-07 - val_acc: 1.0000\n",
            "Epoch 7/10\n",
            "247/247 [==============================] - 0s 699us/sample - loss: 1.5939e-05 - acc: 1.0000 - val_loss: 4.3048e-07 - val_acc: 1.0000\n",
            "Epoch 8/10\n",
            "247/247 [==============================] - 0s 706us/sample - loss: 3.4419e-05 - acc: 1.0000 - val_loss: 3.3997e-07 - val_acc: 1.0000\n",
            "Epoch 9/10\n",
            "247/247 [==============================] - 0s 729us/sample - loss: 1.3015e-05 - acc: 1.0000 - val_loss: 2.8698e-07 - val_acc: 1.0000\n",
            "Epoch 10/10\n",
            "247/247 [==============================] - 0s 725us/sample - loss: 1.1148e-05 - acc: 1.0000 - val_loss: 2.4504e-07 - val_acc: 1.0000\n",
            "Train on 247 samples, validate on 54 samples\n",
            "Epoch 11/15\n",
            "247/247 [==============================] - 0s 730us/sample - loss: 6.3693e-06 - acc: 1.0000 - val_loss: 2.0972e-07 - val_acc: 1.0000\n",
            "Epoch 12/15\n",
            "247/247 [==============================] - 0s 700us/sample - loss: 1.1241e-05 - acc: 1.0000 - val_loss: 1.9206e-07 - val_acc: 1.0000\n",
            "Epoch 13/15\n",
            "247/247 [==============================] - 0s 740us/sample - loss: 7.5087e-06 - acc: 1.0000 - val_loss: 1.7440e-07 - val_acc: 1.0000\n",
            "Epoch 14/15\n",
            "247/247 [==============================] - 0s 724us/sample - loss: 5.8452e-06 - acc: 1.0000 - val_loss: 1.5895e-07 - val_acc: 1.0000\n",
            "Epoch 15/15\n",
            "247/247 [==============================] - 0s 723us/sample - loss: 2.1088e-05 - acc: 1.0000 - val_loss: 1.5012e-07 - val_acc: 1.0000\n",
            "Fine Classifier 1 Error: 0.0\n",
            "Train on 502 samples, validate on 142 samples\n",
            "Epoch 1/5\n",
            "502/502 [==============================] - 4s 8ms/sample - loss: 0.6812 - acc: 0.8227 - val_loss: 1.0670 - val_acc: 0.8310\n",
            "Epoch 2/5\n",
            "502/502 [==============================] - 0s 733us/sample - loss: 0.1352 - acc: 0.9721 - val_loss: 0.9419 - val_acc: 0.8732\n",
            "Epoch 3/5\n",
            "502/502 [==============================] - 0s 718us/sample - loss: 0.0750 - acc: 0.9861 - val_loss: 0.7891 - val_acc: 0.8873\n",
            "Epoch 4/5\n",
            "502/502 [==============================] - 0s 715us/sample - loss: 0.0167 - acc: 0.9900 - val_loss: 0.8762 - val_acc: 0.8944\n",
            "Epoch 5/5\n",
            "502/502 [==============================] - 0s 700us/sample - loss: 0.0489 - acc: 0.9841 - val_loss: 0.7101 - val_acc: 0.9155\n",
            "Train on 502 samples, validate on 142 samples\n",
            "Epoch 6/10\n",
            "502/502 [==============================] - 0s 705us/sample - loss: 0.0547 - acc: 0.9781 - val_loss: 0.6948 - val_acc: 0.8873\n",
            "Epoch 7/10\n",
            "502/502 [==============================] - 0s 742us/sample - loss: 0.0268 - acc: 0.9920 - val_loss: 0.7455 - val_acc: 0.8732\n",
            "Epoch 8/10\n",
            "502/502 [==============================] - 0s 699us/sample - loss: 0.0220 - acc: 0.9920 - val_loss: 0.7403 - val_acc: 0.8873\n",
            "Epoch 9/10\n",
            "502/502 [==============================] - 0s 707us/sample - loss: 0.1046 - acc: 0.9761 - val_loss: 0.8348 - val_acc: 0.8592\n",
            "Epoch 10/10\n",
            "502/502 [==============================] - 0s 717us/sample - loss: 0.0130 - acc: 0.9960 - val_loss: 0.9150 - val_acc: 0.8732\n",
            "Train on 502 samples, validate on 142 samples\n",
            "Epoch 11/15\n",
            "502/502 [==============================] - 0s 701us/sample - loss: 0.0181 - acc: 0.9960 - val_loss: 0.7320 - val_acc: 0.8662\n",
            "Epoch 12/15\n",
            "502/502 [==============================] - 0s 699us/sample - loss: 0.0291 - acc: 0.9861 - val_loss: 0.6982 - val_acc: 0.8803\n",
            "Epoch 13/15\n",
            "502/502 [==============================] - 0s 717us/sample - loss: 0.0629 - acc: 0.9861 - val_loss: 0.7359 - val_acc: 0.8873\n",
            "Epoch 14/15\n",
            "502/502 [==============================] - 0s 699us/sample - loss: 0.0050 - acc: 0.9980 - val_loss: 0.7327 - val_acc: 0.8873\n",
            "Epoch 15/15\n",
            "502/502 [==============================] - 0s 707us/sample - loss: 0.0031 - acc: 1.0000 - val_loss: 0.7314 - val_acc: 0.9014\n",
            "Fine Classifier 2 Error: 0.09859154929577464\n",
            "Train on 657 samples, validate on 142 samples\n",
            "Epoch 1/5\n",
            "657/657 [==============================] - 4s 7ms/sample - loss: 0.6715 - acc: 0.8295 - val_loss: 3.3278 - val_acc: 0.6268\n",
            "Epoch 2/5\n",
            "657/657 [==============================] - 0s 727us/sample - loss: 0.2355 - acc: 0.9361 - val_loss: 1.4571 - val_acc: 0.7746\n",
            "Epoch 3/5\n",
            "657/657 [==============================] - 0s 685us/sample - loss: 0.1081 - acc: 0.9604 - val_loss: 0.9719 - val_acc: 0.8169\n",
            "Epoch 4/5\n",
            "657/657 [==============================] - 0s 684us/sample - loss: 0.0224 - acc: 0.9939 - val_loss: 1.1020 - val_acc: 0.8028\n",
            "Epoch 5/5\n",
            "657/657 [==============================] - 0s 676us/sample - loss: 0.0228 - acc: 0.9893 - val_loss: 1.0996 - val_acc: 0.7958\n",
            "Train on 657 samples, validate on 142 samples\n",
            "Epoch 6/10\n",
            "657/657 [==============================] - 0s 676us/sample - loss: 0.0372 - acc: 0.9848 - val_loss: 1.1963 - val_acc: 0.7606\n",
            "Epoch 7/10\n",
            "657/657 [==============================] - 0s 686us/sample - loss: 0.0108 - acc: 0.9954 - val_loss: 1.8780 - val_acc: 0.7535\n",
            "Epoch 8/10\n",
            "657/657 [==============================] - 0s 689us/sample - loss: 0.0390 - acc: 0.9878 - val_loss: 1.2348 - val_acc: 0.8099\n",
            "Epoch 9/10\n",
            "657/657 [==============================] - 0s 686us/sample - loss: 0.0098 - acc: 0.9954 - val_loss: 1.1028 - val_acc: 0.8239\n",
            "Epoch 10/10\n",
            "657/657 [==============================] - 0s 672us/sample - loss: 0.0113 - acc: 0.9954 - val_loss: 1.3181 - val_acc: 0.8028\n",
            "Train on 657 samples, validate on 142 samples\n",
            "Epoch 11/15\n",
            "657/657 [==============================] - 0s 674us/sample - loss: 0.0343 - acc: 0.9863 - val_loss: 1.2770 - val_acc: 0.8169\n",
            "Epoch 12/15\n",
            "657/657 [==============================] - 0s 675us/sample - loss: 0.0414 - acc: 0.9863 - val_loss: 1.0877 - val_acc: 0.8099\n",
            "Epoch 13/15\n",
            "657/657 [==============================] - 0s 674us/sample - loss: 0.0555 - acc: 0.9787 - val_loss: 1.3686 - val_acc: 0.7676\n",
            "Epoch 14/15\n",
            "657/657 [==============================] - 0s 668us/sample - loss: 0.0164 - acc: 0.9924 - val_loss: 1.2076 - val_acc: 0.7746\n",
            "Epoch 15/15\n",
            "657/657 [==============================] - 0s 682us/sample - loss: 0.0125 - acc: 0.9954 - val_loss: 1.0008 - val_acc: 0.7817\n",
            "Fine Classifier 3 Error: 0.21830985915492956\n",
            "Train on 1368 samples, validate on 312 samples\n",
            "Epoch 1/5\n",
            "1368/1368 [==============================] - 5s 3ms/sample - loss: 0.6349 - acc: 0.8092 - val_loss: 2.4175 - val_acc: 0.6250\n",
            "Epoch 2/5\n",
            "1368/1368 [==============================] - 1s 682us/sample - loss: 0.2349 - acc: 0.9225 - val_loss: 1.7848 - val_acc: 0.6827\n",
            "Epoch 3/5\n",
            "1368/1368 [==============================] - 1s 685us/sample - loss: 0.1151 - acc: 0.9627 - val_loss: 1.4853 - val_acc: 0.7019\n",
            "Epoch 4/5\n",
            "1368/1368 [==============================] - 1s 684us/sample - loss: 0.0571 - acc: 0.9803 - val_loss: 1.4205 - val_acc: 0.6795\n",
            "Epoch 5/5\n",
            "1368/1368 [==============================] - 1s 691us/sample - loss: 0.0605 - acc: 0.9810 - val_loss: 1.7215 - val_acc: 0.6923\n",
            "Train on 1368 samples, validate on 312 samples\n",
            "Epoch 6/10\n",
            "1368/1368 [==============================] - 1s 686us/sample - loss: 0.0649 - acc: 0.9781 - val_loss: 1.6698 - val_acc: 0.6795\n",
            "Epoch 7/10\n",
            "1368/1368 [==============================] - 1s 676us/sample - loss: 0.0529 - acc: 0.9854 - val_loss: 1.6009 - val_acc: 0.6827\n",
            "Epoch 8/10\n",
            "1368/1368 [==============================] - 1s 687us/sample - loss: 0.0377 - acc: 0.9868 - val_loss: 1.6167 - val_acc: 0.6731\n",
            "Epoch 9/10\n",
            "1368/1368 [==============================] - 1s 675us/sample - loss: 0.0379 - acc: 0.9883 - val_loss: 1.8174 - val_acc: 0.6763\n",
            "Epoch 10/10\n",
            "1368/1368 [==============================] - 1s 684us/sample - loss: 0.0194 - acc: 0.9905 - val_loss: 1.9092 - val_acc: 0.6827\n",
            "Train on 1368 samples, validate on 312 samples\n",
            "Epoch 11/15\n",
            "1368/1368 [==============================] - 1s 681us/sample - loss: 0.0270 - acc: 0.9912 - val_loss: 1.9456 - val_acc: 0.6827\n",
            "Epoch 12/15\n",
            "1368/1368 [==============================] - 1s 669us/sample - loss: 0.0292 - acc: 0.9883 - val_loss: 2.0566 - val_acc: 0.6923\n",
            "Epoch 13/15\n",
            "1368/1368 [==============================] - 1s 686us/sample - loss: 0.0203 - acc: 0.9890 - val_loss: 2.0325 - val_acc: 0.6955\n",
            "Epoch 14/15\n",
            "1368/1368 [==============================] - 1s 677us/sample - loss: 0.0132 - acc: 0.9949 - val_loss: 2.1343 - val_acc: 0.6795\n",
            "Epoch 15/15\n",
            "1368/1368 [==============================] - 1s 700us/sample - loss: 0.0223 - acc: 0.9920 - val_loss: 2.3779 - val_acc: 0.6795\n",
            "Fine Classifier 4 Error: 0.32051282051282054\n",
            "Train on 1528 samples, validate on 398 samples\n",
            "Epoch 1/5\n",
            "1528/1528 [==============================] - 5s 3ms/sample - loss: 0.7417 - acc: 0.7847 - val_loss: 2.1902 - val_acc: 0.5402\n",
            "Epoch 2/5\n",
            "1528/1528 [==============================] - 1s 682us/sample - loss: 0.2536 - acc: 0.9149 - val_loss: 1.9471 - val_acc: 0.6005\n",
            "Epoch 3/5\n",
            "1528/1528 [==============================] - 1s 684us/sample - loss: 0.1104 - acc: 0.9607 - val_loss: 1.8296 - val_acc: 0.5955\n",
            "Epoch 4/5\n",
            "1528/1528 [==============================] - 1s 671us/sample - loss: 0.0755 - acc: 0.9712 - val_loss: 1.9526 - val_acc: 0.5980\n",
            "Epoch 5/5\n",
            "1528/1528 [==============================] - 1s 688us/sample - loss: 0.0540 - acc: 0.9836 - val_loss: 1.8783 - val_acc: 0.6231\n",
            "Train on 1528 samples, validate on 398 samples\n",
            "Epoch 6/10\n",
            "1528/1528 [==============================] - 1s 679us/sample - loss: 0.0484 - acc: 0.9836 - val_loss: 1.9442 - val_acc: 0.6206\n",
            "Epoch 7/10\n",
            "1528/1528 [==============================] - 1s 679us/sample - loss: 0.0398 - acc: 0.9869 - val_loss: 2.0308 - val_acc: 0.6181\n",
            "Epoch 8/10\n",
            "1528/1528 [==============================] - 1s 677us/sample - loss: 0.0429 - acc: 0.9876 - val_loss: 2.2439 - val_acc: 0.5980\n",
            "Epoch 9/10\n",
            "1528/1528 [==============================] - 1s 681us/sample - loss: 0.0340 - acc: 0.9882 - val_loss: 2.1826 - val_acc: 0.6307\n",
            "Epoch 10/10\n",
            "1528/1528 [==============================] - 1s 683us/sample - loss: 0.0313 - acc: 0.9895 - val_loss: 2.3240 - val_acc: 0.6256\n",
            "Train on 1528 samples, validate on 398 samples\n",
            "Epoch 11/15\n",
            "1528/1528 [==============================] - 1s 675us/sample - loss: 0.0160 - acc: 0.9974 - val_loss: 2.3991 - val_acc: 0.6231\n",
            "Epoch 12/15\n",
            "1528/1528 [==============================] - 1s 684us/sample - loss: 0.0223 - acc: 0.9935 - val_loss: 2.6504 - val_acc: 0.6131\n",
            "Epoch 13/15\n",
            "1528/1528 [==============================] - 1s 680us/sample - loss: 0.0204 - acc: 0.9961 - val_loss: 2.5938 - val_acc: 0.5905\n",
            "Epoch 14/15\n",
            "1528/1528 [==============================] - 1s 689us/sample - loss: 0.0284 - acc: 0.9889 - val_loss: 2.5307 - val_acc: 0.6080\n",
            "Epoch 15/15\n",
            "1528/1528 [==============================] - 1s 700us/sample - loss: 0.0155 - acc: 0.9961 - val_loss: 2.4661 - val_acc: 0.5955\n",
            "Fine Classifier 5 Error: 0.4045226130653266\n",
            "Train on 572 samples, validate on 123 samples\n",
            "Epoch 1/5\n",
            "572/572 [==============================] - 4s 7ms/sample - loss: 0.7290 - acc: 0.8339 - val_loss: 4.0761 - val_acc: 0.6667\n",
            "Epoch 2/5\n",
            "572/572 [==============================] - 0s 692us/sample - loss: 0.2765 - acc: 0.9371 - val_loss: 2.5514 - val_acc: 0.7561\n",
            "Epoch 3/5\n",
            "572/572 [==============================] - 0s 669us/sample - loss: 0.1375 - acc: 0.9528 - val_loss: 1.9882 - val_acc: 0.7886\n",
            "Epoch 4/5\n",
            "572/572 [==============================] - 0s 672us/sample - loss: 0.0201 - acc: 0.9913 - val_loss: 1.3734 - val_acc: 0.8293\n",
            "Epoch 5/5\n",
            "572/572 [==============================] - 0s 671us/sample - loss: 0.0203 - acc: 0.9913 - val_loss: 1.2608 - val_acc: 0.8211\n",
            "Train on 572 samples, validate on 123 samples\n",
            "Epoch 6/10\n",
            "572/572 [==============================] - 0s 679us/sample - loss: 0.0094 - acc: 0.9965 - val_loss: 1.1147 - val_acc: 0.8374\n",
            "Epoch 7/10\n",
            "572/572 [==============================] - 0s 676us/sample - loss: 0.0286 - acc: 0.9843 - val_loss: 0.9459 - val_acc: 0.8537\n",
            "Epoch 8/10\n",
            "572/572 [==============================] - 0s 666us/sample - loss: 0.0124 - acc: 0.9965 - val_loss: 0.8919 - val_acc: 0.8455\n",
            "Epoch 9/10\n",
            "572/572 [==============================] - 0s 674us/sample - loss: 0.0404 - acc: 0.9895 - val_loss: 0.7952 - val_acc: 0.8537\n",
            "Epoch 10/10\n",
            "572/572 [==============================] - 0s 679us/sample - loss: 0.0220 - acc: 0.9930 - val_loss: 0.9290 - val_acc: 0.8455\n",
            "Train on 572 samples, validate on 123 samples\n",
            "Epoch 11/15\n",
            "572/572 [==============================] - 0s 668us/sample - loss: 0.0105 - acc: 0.9965 - val_loss: 0.9190 - val_acc: 0.8455\n",
            "Epoch 12/15\n",
            "572/572 [==============================] - 0s 695us/sample - loss: 0.0247 - acc: 0.9895 - val_loss: 0.9238 - val_acc: 0.8455\n",
            "Epoch 13/15\n",
            "572/572 [==============================] - 0s 681us/sample - loss: 0.0051 - acc: 1.0000 - val_loss: 1.1097 - val_acc: 0.8293\n",
            "Epoch 14/15\n",
            "572/572 [==============================] - 0s 674us/sample - loss: 0.0383 - acc: 0.9930 - val_loss: 1.1774 - val_acc: 0.8455\n",
            "Epoch 15/15\n",
            "572/572 [==============================] - 0s 676us/sample - loss: 0.0164 - acc: 0.9965 - val_loss: 1.2219 - val_acc: 0.8374\n",
            "Fine Classifier 6 Error: 0.16260162601626016\n",
            "Train on 550 samples, validate on 147 samples\n",
            "Epoch 1/5\n",
            "550/550 [==============================] - 4s 8ms/sample - loss: 0.7211 - acc: 0.8255 - val_loss: 2.2419 - val_acc: 0.7007\n",
            "Epoch 2/5\n",
            "550/550 [==============================] - 0s 724us/sample - loss: 0.3391 - acc: 0.9236 - val_loss: 1.8323 - val_acc: 0.7959\n",
            "Epoch 3/5\n",
            "550/550 [==============================] - 0s 715us/sample - loss: 0.1679 - acc: 0.9455 - val_loss: 1.4464 - val_acc: 0.7415\n",
            "Epoch 4/5\n",
            "550/550 [==============================] - 0s 709us/sample - loss: 0.1639 - acc: 0.9582 - val_loss: 1.3405 - val_acc: 0.7891\n",
            "Epoch 5/5\n",
            "550/550 [==============================] - 0s 696us/sample - loss: 0.0614 - acc: 0.9836 - val_loss: 1.1005 - val_acc: 0.7687\n",
            "Train on 550 samples, validate on 147 samples\n",
            "Epoch 6/10\n",
            "550/550 [==============================] - 0s 713us/sample - loss: 0.0279 - acc: 0.9891 - val_loss: 1.0580 - val_acc: 0.7619\n",
            "Epoch 7/10\n",
            "550/550 [==============================] - 0s 702us/sample - loss: 0.0605 - acc: 0.9818 - val_loss: 1.0328 - val_acc: 0.7891\n",
            "Epoch 8/10\n",
            "550/550 [==============================] - 0s 710us/sample - loss: 0.0435 - acc: 0.9800 - val_loss: 1.1749 - val_acc: 0.7891\n",
            "Epoch 9/10\n",
            "550/550 [==============================] - 0s 700us/sample - loss: 0.0501 - acc: 0.9836 - val_loss: 1.2769 - val_acc: 0.7959\n",
            "Epoch 10/10\n",
            "550/550 [==============================] - 0s 699us/sample - loss: 0.0103 - acc: 0.9964 - val_loss: 1.1374 - val_acc: 0.7959\n",
            "Train on 550 samples, validate on 147 samples\n",
            "Epoch 11/15\n",
            "550/550 [==============================] - 0s 702us/sample - loss: 0.0190 - acc: 0.9945 - val_loss: 1.1201 - val_acc: 0.8095\n",
            "Epoch 12/15\n",
            "550/550 [==============================] - 0s 707us/sample - loss: 0.0211 - acc: 0.9909 - val_loss: 1.1320 - val_acc: 0.8027\n",
            "Epoch 13/15\n",
            "550/550 [==============================] - 0s 700us/sample - loss: 0.0087 - acc: 0.9982 - val_loss: 1.1249 - val_acc: 0.7959\n",
            "Epoch 14/15\n",
            "550/550 [==============================] - 0s 704us/sample - loss: 0.0219 - acc: 0.9891 - val_loss: 1.1442 - val_acc: 0.7959\n",
            "Epoch 15/15\n",
            "550/550 [==============================] - 0s 697us/sample - loss: 0.0142 - acc: 0.9927 - val_loss: 1.1633 - val_acc: 0.7959\n",
            "Fine Classifier 7 Error: 0.20408163265306123\n",
            "Train on 518 samples, validate on 139 samples\n",
            "Epoch 1/5\n",
            "518/518 [==============================] - 4s 8ms/sample - loss: 0.8253 - acc: 0.7780 - val_loss: 5.7111 - val_acc: 0.6331\n",
            "Epoch 2/5\n",
            "518/518 [==============================] - 0s 728us/sample - loss: 0.2656 - acc: 0.9170 - val_loss: 2.3904 - val_acc: 0.7050\n",
            "Epoch 3/5\n",
            "518/518 [==============================] - 0s 712us/sample - loss: 0.2133 - acc: 0.9479 - val_loss: 1.4046 - val_acc: 0.7338\n",
            "Epoch 4/5\n",
            "518/518 [==============================] - 0s 708us/sample - loss: 0.0753 - acc: 0.9653 - val_loss: 1.1662 - val_acc: 0.7482\n",
            "Epoch 5/5\n",
            "518/518 [==============================] - 0s 709us/sample - loss: 0.0591 - acc: 0.9768 - val_loss: 1.0715 - val_acc: 0.7986\n",
            "Train on 518 samples, validate on 139 samples\n",
            "Epoch 6/10\n",
            "518/518 [==============================] - 0s 709us/sample - loss: 0.0374 - acc: 0.9884 - val_loss: 1.1298 - val_acc: 0.7770\n",
            "Epoch 7/10\n",
            "518/518 [==============================] - 0s 724us/sample - loss: 0.0320 - acc: 0.9865 - val_loss: 1.0756 - val_acc: 0.7842\n",
            "Epoch 8/10\n",
            "518/518 [==============================] - 0s 707us/sample - loss: 0.0253 - acc: 0.9903 - val_loss: 1.0031 - val_acc: 0.7842\n",
            "Epoch 9/10\n",
            "518/518 [==============================] - 0s 711us/sample - loss: 0.0102 - acc: 0.9981 - val_loss: 1.0333 - val_acc: 0.8058\n",
            "Epoch 10/10\n",
            "518/518 [==============================] - 0s 716us/sample - loss: 0.0169 - acc: 0.9942 - val_loss: 0.9799 - val_acc: 0.7914\n",
            "Train on 518 samples, validate on 139 samples\n",
            "Epoch 11/15\n",
            "518/518 [==============================] - 0s 702us/sample - loss: 0.0349 - acc: 0.9865 - val_loss: 0.8797 - val_acc: 0.7914\n",
            "Epoch 12/15\n",
            "518/518 [==============================] - 0s 711us/sample - loss: 0.0557 - acc: 0.9884 - val_loss: 1.0179 - val_acc: 0.7770\n",
            "Epoch 13/15\n",
            "518/518 [==============================] - 0s 701us/sample - loss: 0.0314 - acc: 0.9903 - val_loss: 0.9983 - val_acc: 0.7482\n",
            "Epoch 14/15\n",
            "518/518 [==============================] - 0s 712us/sample - loss: 0.0608 - acc: 0.9846 - val_loss: 0.9245 - val_acc: 0.7986\n",
            "Epoch 15/15\n",
            "518/518 [==============================] - 0s 714us/sample - loss: 0.0318 - acc: 0.9865 - val_loss: 1.0412 - val_acc: 0.7698\n",
            "Fine Classifier 8 Error: 0.2302158273381295\n",
            "Train on 1034 samples, validate on 267 samples\n",
            "Epoch 1/5\n",
            "1034/1034 [==============================] - 5s 5ms/sample - loss: 0.5245 - acc: 0.8598 - val_loss: 2.5504 - val_acc: 0.6704\n",
            "Epoch 2/5\n",
            "1034/1034 [==============================] - 1s 706us/sample - loss: 0.2676 - acc: 0.9207 - val_loss: 1.7779 - val_acc: 0.6891\n",
            "Epoch 3/5\n",
            "1034/1034 [==============================] - 1s 706us/sample - loss: 0.1398 - acc: 0.9507 - val_loss: 1.6023 - val_acc: 0.7116\n",
            "Epoch 4/5\n",
            "1034/1034 [==============================] - 1s 689us/sample - loss: 0.0634 - acc: 0.9807 - val_loss: 1.4522 - val_acc: 0.7341\n",
            "Epoch 5/5\n",
            "1034/1034 [==============================] - 1s 700us/sample - loss: 0.0395 - acc: 0.9845 - val_loss: 1.2279 - val_acc: 0.7528\n",
            "Train on 1034 samples, validate on 267 samples\n",
            "Epoch 6/10\n",
            "1034/1034 [==============================] - 1s 701us/sample - loss: 0.0530 - acc: 0.9836 - val_loss: 1.4631 - val_acc: 0.7228\n",
            "Epoch 7/10\n",
            "1034/1034 [==============================] - 1s 706us/sample - loss: 0.0226 - acc: 0.9923 - val_loss: 1.6806 - val_acc: 0.7116\n",
            "Epoch 8/10\n",
            "1034/1034 [==============================] - 1s 689us/sample - loss: 0.0324 - acc: 0.9874 - val_loss: 1.6410 - val_acc: 0.7191\n",
            "Epoch 9/10\n",
            "1034/1034 [==============================] - 1s 691us/sample - loss: 0.0258 - acc: 0.9913 - val_loss: 1.8075 - val_acc: 0.7228\n",
            "Epoch 10/10\n",
            "1034/1034 [==============================] - 1s 695us/sample - loss: 0.0217 - acc: 0.9942 - val_loss: 1.8432 - val_acc: 0.7079\n",
            "Train on 1034 samples, validate on 267 samples\n",
            "Epoch 11/15\n",
            "1034/1034 [==============================] - 1s 683us/sample - loss: 0.0277 - acc: 0.9894 - val_loss: 2.0092 - val_acc: 0.7154\n",
            "Epoch 12/15\n",
            "1034/1034 [==============================] - 1s 695us/sample - loss: 0.0296 - acc: 0.9874 - val_loss: 1.8884 - val_acc: 0.7041\n",
            "Epoch 13/15\n",
            "1034/1034 [==============================] - 1s 695us/sample - loss: 0.0172 - acc: 0.9942 - val_loss: 1.8317 - val_acc: 0.7116\n",
            "Epoch 14/15\n",
            "1034/1034 [==============================] - 1s 689us/sample - loss: 0.0229 - acc: 0.9923 - val_loss: 2.4845 - val_acc: 0.6854\n",
            "Epoch 15/15\n",
            "1034/1034 [==============================] - 1s 693us/sample - loss: 0.0232 - acc: 0.9894 - val_loss: 2.0935 - val_acc: 0.7041\n",
            "Fine Classifier 9 Error: 0.2958801498127341\n",
            "Train on 470 samples, validate on 145 samples\n",
            "Epoch 1/5\n",
            "470/470 [==============================] - 4s 9ms/sample - loss: 0.6578 - acc: 0.8447 - val_loss: 0.0692 - val_acc: 0.9931\n",
            "Epoch 2/5\n",
            "470/470 [==============================] - 0s 742us/sample - loss: 5.9727e-04 - acc: 1.0000 - val_loss: 0.0760 - val_acc: 0.9931\n",
            "Epoch 3/5\n",
            "470/470 [==============================] - 0s 730us/sample - loss: 6.0514e-05 - acc: 1.0000 - val_loss: 0.0865 - val_acc: 0.9931\n",
            "Epoch 4/5\n",
            "470/470 [==============================] - 0s 739us/sample - loss: 4.4387e-05 - acc: 1.0000 - val_loss: 0.0879 - val_acc: 0.9931\n",
            "Epoch 5/5\n",
            "470/470 [==============================] - 0s 729us/sample - loss: 2.0009e-05 - acc: 1.0000 - val_loss: 0.0906 - val_acc: 0.9931\n",
            "Train on 470 samples, validate on 145 samples\n",
            "Epoch 6/10\n",
            "470/470 [==============================] - 0s 728us/sample - loss: 3.3440e-05 - acc: 1.0000 - val_loss: 0.0887 - val_acc: 0.9931\n",
            "Epoch 7/10\n",
            "470/470 [==============================] - 0s 769us/sample - loss: 8.8183e-05 - acc: 1.0000 - val_loss: 0.0796 - val_acc: 0.9931\n",
            "Epoch 8/10\n",
            "470/470 [==============================] - 0s 721us/sample - loss: 8.5967e-05 - acc: 1.0000 - val_loss: 0.0736 - val_acc: 0.9931\n",
            "Epoch 9/10\n",
            "470/470 [==============================] - 0s 733us/sample - loss: 1.8554e-05 - acc: 1.0000 - val_loss: 0.0634 - val_acc: 0.9931\n",
            "Epoch 10/10\n",
            "470/470 [==============================] - 0s 756us/sample - loss: 1.1632e-05 - acc: 1.0000 - val_loss: 0.0583 - val_acc: 0.9931\n",
            "Train on 470 samples, validate on 145 samples\n",
            "Epoch 11/15\n",
            "470/470 [==============================] - 0s 730us/sample - loss: 2.2270e-05 - acc: 1.0000 - val_loss: 0.0582 - val_acc: 0.9931\n",
            "Epoch 12/15\n",
            "470/470 [==============================] - 0s 719us/sample - loss: 1.2708e-05 - acc: 1.0000 - val_loss: 0.0581 - val_acc: 0.9862\n",
            "Epoch 13/15\n",
            "470/470 [==============================] - 0s 737us/sample - loss: 1.4077e-05 - acc: 1.0000 - val_loss: 0.0743 - val_acc: 0.9862\n",
            "Epoch 14/15\n",
            "470/470 [==============================] - 0s 731us/sample - loss: 6.3520e-06 - acc: 1.0000 - val_loss: 0.0909 - val_acc: 0.9862\n",
            "Epoch 15/15\n",
            "470/470 [==============================] - 0s 738us/sample - loss: 6.3525e-06 - acc: 1.0000 - val_loss: 0.1039 - val_acc: 0.9862\n",
            "Fine Classifier 10 Error: 0.013793103448275862\n"
          ]
        }
      ],
      "source": [
        "for i in range(coarse_categories):\n",
        "    index= 0\n",
        "    step = 5\n",
        "    stop = 15\n",
        "    \n",
        "    # Get all training data for the coarse category\n",
        "    ix = np.where([(y_train[:,j]==1) for j in [k for k, e in enumerate(fine2coarse[:,i]) if e != 0]])[1]\n",
        "    x_tix = x_train[ix]\n",
        "    y_tix = y_train[ix]\n",
        "    \n",
        "    # Get all validation data for the coarse category\n",
        "    ix_v = np.where([(y_val[:,j]==1) for j in [k for k, e in enumerate(fine2coarse[:,i]) if e != 0]])[1]\n",
        "    x_vix = x_val[ix_v]\n",
        "    y_vix = y_val[ix_v]\n",
        "    \n",
        "    while index < stop:\n",
        "        fine_models['models'][i].fit(x_tix, y_tix, batch_size=16, initial_epoch=index, epochs=index+step, validation_data=(x_vix, y_vix))\n",
        "        index += step\n",
        "    \n",
        "    # fine_models['models'][i].compile(optimizer=adam_fine, loss='categorical_crossentropy', metrics=['accuracy'])\n",
        "    # stop = 10\n",
        "\n",
        "    # while index < stop:\n",
        "    #     fine_models['models'][i].fit(x_tix, y_tix, batch_size=16, initial_epoch=index, epochs=index+step, validation_data=(x_vix, y_vix))\n",
        "    #     index += step\n",
        "        \n",
        "    yh_f = fine_models['models'][i].predict(x_val[ix_v], batch_size=batch)\n",
        "    print('Fine Classifier '+str(i)+' Error: '+str(get_error(y_val[ix_v],yh_f))) "
      ]
    },
    {
      "cell_type": "markdown",
      "metadata": {
        "collapsed": true,
        "id": "DHEcsvXyDjOh"
      },
      "source": [
        "## Probabilistic Averaging"
      ]
    },
    {
      "cell_type": "code",
      "execution_count": 251,
      "metadata": {
        "id": "c1Hf7yQfDjOh"
      },
      "outputs": [],
      "source": [
        "def eval_hdcnn(X, y):\n",
        "    yh = np.zeros(np.shape(y))\n",
        "    \n",
        "    yh_s = model.predict(X, batch_size=batch)\n",
        "    \n",
        "    print('Single Classifier Error: '+str(get_error(y,yh_s)))\n",
        "    \n",
        "    yh_c = model_c.predict(X, batch_size=batch)\n",
        "    y_c = np.dot(y,fine2coarse)\n",
        "    \n",
        "    print('Coarse Classifier Error: '+str(get_error(y_c,yh_c)))\n",
        "\n",
        "    for i in range(coarse_categories):\n",
        "        fine_models['yhf'][i] = fine_models['models'][i].predict(X, batch_size=batch)\n",
        "        \n",
        "        yh += np.multiply(yh_c[:,i].reshape((len(y)),1), fine_models['yhf'][i])\n",
        "    \n",
        "    print('Overall Error: '+str(get_error(y,yh)))\n",
        "    return yh"
      ]
    },
    {
      "cell_type": "code",
      "source": [
        "# 1234\n",
        "yh = eval_hdcnn(x_val,y_val)"
      ],
      "metadata": {
        "colab": {
          "base_uri": "https://localhost:8080/"
        },
        "id": "PKH13hYD_aKh",
        "outputId": "1817a46e-e101-4d1d-c6dc-333e59339340"
      },
      "execution_count": 252,
      "outputs": [
        {
          "output_type": "stream",
          "name": "stderr",
          "text": [
            "/usr/local/lib/python3.7/dist-packages/keras/engine/training_v1.py:2079: UserWarning: `Model.state_updates` will be removed in a future version. This property should not be used in TensorFlow 2.0, as `updates` are applied automatically.\n",
            "  updates=self.state_updates,\n"
          ]
        },
        {
          "output_type": "stream",
          "name": "stdout",
          "text": [
            "Single Classifier Error: 0.6208601087493821\n",
            "Coarse Classifier Error: 0.4834404349975284\n",
            "Overall Error: 0.5946613939693525\n"
          ]
        }
      ]
    },
    {
      "cell_type": "code",
      "source": [
        "# 666\n",
        "yh = eval_hdcnn(x_val,y_val)"
      ],
      "metadata": {
        "colab": {
          "base_uri": "https://localhost:8080/"
        },
        "id": "UjqJE2aS2btH",
        "outputId": "72c536d8-e807-4a9f-bbd9-60e5604beed0"
      },
      "execution_count": 190,
      "outputs": [
        {
          "output_type": "stream",
          "name": "stderr",
          "text": [
            "/usr/local/lib/python3.7/dist-packages/keras/engine/training_v1.py:2079: UserWarning: `Model.state_updates` will be removed in a future version. This property should not be used in TensorFlow 2.0, as `updates` are applied automatically.\n",
            "  updates=self.state_updates,\n"
          ]
        },
        {
          "output_type": "stream",
          "name": "stdout",
          "text": [
            "Single Classifier Error: 0.5986159169550173\n",
            "Coarse Classifier Error: 0.46959960454770144\n",
            "Overall Error: 0.5813148788927336\n"
          ]
        }
      ]
    },
    {
      "cell_type": "code",
      "source": [
        "yh = eval_hdcnn(x_val,y_val)"
      ],
      "metadata": {
        "colab": {
          "base_uri": "https://localhost:8080/"
        },
        "id": "gH4lXw16uVl1",
        "outputId": "3dfb78ff-0c85-42bb-a66b-e2be2ff1375b"
      },
      "execution_count": 31,
      "outputs": [
        {
          "output_type": "stream",
          "name": "stderr",
          "text": [
            "/usr/local/lib/python3.7/dist-packages/keras/engine/training_v1.py:2079: UserWarning: `Model.state_updates` will be removed in a future version. This property should not be used in TensorFlow 2.0, as `updates` are applied automatically.\n",
            "  updates=self.state_updates,\n"
          ]
        },
        {
          "output_type": "stream",
          "name": "stdout",
          "text": [
            "Single Classifier Error: 0.6688086999505685\n",
            "Coarse Classifier Error: 0.5333662876915473\n",
            "Overall Error: 0.6396440929312902\n"
          ]
        }
      ]
    },
    {
      "cell_type": "code",
      "source": [
        "yh = eval_hdcnn(x_val,y_val)"
      ],
      "metadata": {
        "colab": {
          "base_uri": "https://localhost:8080/"
        },
        "id": "vJhHHqRcqOY-",
        "outputId": "09d493f8-c52a-43ef-a986-1d2b8813bde4"
      },
      "execution_count": 62,
      "outputs": [
        {
          "output_type": "stream",
          "name": "stderr",
          "text": [
            "/usr/local/lib/python3.7/dist-packages/keras/engine/training_v1.py:2079: UserWarning: `Model.state_updates` will be removed in a future version. This property should not be used in TensorFlow 2.0, as `updates` are applied automatically.\n",
            "  updates=self.state_updates,\n"
          ]
        },
        {
          "output_type": "stream",
          "name": "stdout",
          "text": [
            "Single Classifier Error: 0.6628769154720712\n",
            "Coarse Classifier Error: 0.5392980721700444\n",
            "Overall Error: 0.6460701927829956\n"
          ]
        }
      ]
    },
    {
      "cell_type": "code",
      "source": [
        "yh = eval_hdcnn(x_val,y_val)"
      ],
      "metadata": {
        "colab": {
          "base_uri": "https://localhost:8080/"
        },
        "id": "Hh9dQji3it06",
        "outputId": "4fb8576a-2436-481f-ce7e-c05ea56c76bb"
      },
      "execution_count": 31,
      "outputs": [
        {
          "output_type": "stream",
          "name": "stderr",
          "text": [
            "/usr/local/lib/python3.7/dist-packages/keras/engine/training_v1.py:2079: UserWarning: `Model.state_updates` will be removed in a future version. This property should not be used in TensorFlow 2.0, as `updates` are applied automatically.\n",
            "  updates=self.state_updates,\n"
          ]
        },
        {
          "output_type": "stream",
          "name": "stdout",
          "text": [
            "Single Classifier Error: 0.6604053386060307\n",
            "Coarse Classifier Error: 0.5254572417202175\n",
            "Overall Error: 0.6312407315867523\n"
          ]
        }
      ]
    },
    {
      "cell_type": "code",
      "execution_count": null,
      "metadata": {
        "id": "O6QLOBqDDjOi"
      },
      "outputs": [],
      "source": [
        "yh = eval_hdcnn(x_val,y_val)"
      ]
    },
    {
      "cell_type": "code",
      "source": [
        "from numba import cuda\n",
        "cuda.select_device(0)\n",
        "cuda.close()"
      ],
      "metadata": {
        "id": "kQnQaFB7kJ7S"
      },
      "execution_count": 63,
      "outputs": []
    },
    {
      "cell_type": "code",
      "source": [
        "\n",
        "def visualization(X, y_target):\n",
        "\n",
        "    tsne = TSNE(perplexity=30, n_components=2, init='pca', n_iter=5000,random_state=135)\n",
        "    low_dim_embs = tsne.fit_transform(X)\n",
        "    labels = y_target.ravel()\n",
        "\n",
        "    X, Y = low_dim_embs[:, 0], low_dim_embs[:, 1]\n",
        "\n",
        "    classes = list(np.unique(labels))\n",
        "    markers = 'os' * len(classes)\n",
        "    colors = plt.cm.rainbow(np.linspace(0, 1, len(classes)))\n",
        "    for x, y, s in zip(X, Y, labels):\n",
        "        i = int(s)\n",
        "        plt.scatter(x, y, marker=markers[i], c=[colors[i]], alpha=0.3)\n",
        "    plt.xlim(X.min(), X.max())\n",
        "    plt.ylim(Y.min(), Y.max())\n",
        "    plt.title('Visualize last layer')\n",
        "\n",
        "    plt.legend()\n",
        "    plt.axis(\"off\")\n",
        "\n",
        "    plt.show()\n",
        "\n"
      ],
      "metadata": {
        "id": "W-w4eo0ydRsk"
      },
      "execution_count": null,
      "outputs": []
    }
  ],
  "metadata": {
    "colab": {
      "collapsed_sections": [],
      "machine_shape": "hm",
      "name": "hdcnn2.ipynb",
      "provenance": []
    },
    "kernelspec": {
      "display_name": "Environment (conda_tensorflow_p36)",
      "language": "python",
      "name": "conda_tensorflow_p36"
    },
    "language_info": {
      "codemirror_mode": {
        "name": "ipython",
        "version": 3
      },
      "file_extension": ".py",
      "mimetype": "text/x-python",
      "name": "python",
      "nbconvert_exporter": "python",
      "pygments_lexer": "ipython3",
      "version": "3.6.4"
    },
    "toc": {
      "colors": {
        "hover_highlight": "#DAA520",
        "running_highlight": "#FF0000",
        "selected_highlight": "#FFD700"
      },
      "moveMenuLeft": true,
      "nav_menu": {
        "height": "12px",
        "width": "252px"
      },
      "navigate_menu": true,
      "number_sections": true,
      "sideBar": true,
      "threshold": 4,
      "toc_cell": false,
      "toc_section_display": "block",
      "toc_window_display": false,
      "widenNotebook": false
    },
    "accelerator": "GPU"
  },
  "nbformat": 4,
  "nbformat_minor": 0
}